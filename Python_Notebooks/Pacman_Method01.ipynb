{
  "nbformat": 4,
  "nbformat_minor": 0,
  "metadata": {
    "colab": {
      "provenance": [],
      "toc_visible": true
    },
    "kernelspec": {
      "name": "python3",
      "display_name": "Python 3"
    },
    "language_info": {
      "name": "python"
    }
  },
  "cells": [
    {
      "cell_type": "code",
      "execution_count": null,
      "metadata": {
        "colab": {
          "base_uri": "https://localhost:8080/"
        },
        "id": "mDWP_VJhKg7p",
        "outputId": "1f227c83-ddd4-451c-af33-927aebc02052"
      },
      "outputs": [
        {
          "output_type": "stream",
          "name": "stdout",
          "text": [
            "Mounted at /content/MyDrive/\n",
            "/content/MyDrive\n"
          ]
        }
      ],
      "source": [
        "# References:\n",
        "# [1] https://towardsdatascience.com/different-ways-to-connect-google-drive-to-a-google-colab-notebook-pt-1-de03433d2f7a\n",
        "# [2] https://stackoverflow.com/questions/54351852/accessing-shared-with-me-with-colab\n",
        "# [3] https://stackoverflow.com/questions/53581278/test-if-notebook-is-running-on-google-colab\n",
        "\n",
        "import os\n",
        "\n",
        "try:\n",
        "    from google.colab import drive\n",
        "    from google.colab import files\n",
        "    IN_COLAB = True\n",
        "except:\n",
        "    IN_COLAB = False\n",
        "\n",
        "if IN_COLAB:\n",
        "\n",
        "    # mount google drive \n",
        "    drive.mount('/content/MyDrive/', force_remount=True)\n",
        "\n",
        "    #change directory\n",
        "    try:\n",
        "        os.chdir('/content/MyDrive')\n",
        "\n",
        "    except:\n",
        "        os.chdir('/content/MyDrive')\n",
        "\n",
        "wdir = os.getcwd()\n",
        "\n",
        "print(wdir)"
      ]
    },
    {
      "cell_type": "code",
      "source": [
        "# root directory\n",
        "wdir = os.getcwd()\n",
        "\n",
        "wdir"
      ],
      "metadata": {
        "colab": {
          "base_uri": "https://localhost:8080/",
          "height": 35
        },
        "id": "28fTzrVnNkCZ",
        "outputId": "4750ef66-94dc-4d5e-cd3d-65b5e38b7235"
      },
      "execution_count": null,
      "outputs": [
        {
          "output_type": "execute_result",
          "data": {
            "text/plain": [
              "'/content/MyDrive'"
            ],
            "application/vnd.google.colaboratory.intrinsic+json": {
              "type": "string"
            }
          },
          "metadata": {},
          "execution_count": 2
        }
      ]
    },
    {
      "cell_type": "code",
      "source": [
        "%pwd"
      ],
      "metadata": {
        "colab": {
          "base_uri": "https://localhost:8080/",
          "height": 35
        },
        "id": "Zv_YRth1NkgJ",
        "outputId": "0a52686a-a91d-480c-f289-d420b61aefe0"
      },
      "execution_count": null,
      "outputs": [
        {
          "output_type": "execute_result",
          "data": {
            "text/plain": [
              "'/content/MyDrive'"
            ],
            "application/vnd.google.colaboratory.intrinsic+json": {
              "type": "string"
            }
          },
          "metadata": {},
          "execution_count": 3
        }
      ]
    },
    {
      "cell_type": "code",
      "source": [
        "%ls"
      ],
      "metadata": {
        "colab": {
          "base_uri": "https://localhost:8080/"
        },
        "id": "X4DAB1TcNkjf",
        "outputId": "9667b243-3274-4202-c955-72ae3d6ab191"
      },
      "execution_count": null,
      "outputs": [
        {
          "output_type": "stream",
          "name": "stdout",
          "text": [
            "\u001b[0m\u001b[01;34mMyDrive\u001b[0m/\n"
          ]
        }
      ]
    },
    {
      "cell_type": "code",
      "source": [
        "os.chdir('/content/MyDrive/MyDrive')"
      ],
      "metadata": {
        "id": "EH8jI_guNho4"
      },
      "execution_count": null,
      "outputs": []
    },
    {
      "cell_type": "code",
      "source": [
        "# To support both python 2 and python 3\n",
        "from __future__ import division, print_function, unicode_literals\n",
        "\n",
        "# Common imports\n",
        "import numpy as np\n",
        "import os\n",
        "import sys\n",
        "\n",
        "# to make this notebook's output stable across runs\n",
        "def reset_graph(seed=42):\n",
        "    tf.reset_default_graph()\n",
        "    tf.set_random_seed(seed)\n",
        "    np.random.seed(seed)\n",
        "\n",
        "# To plot pretty figures and animations\n",
        "%matplotlib nbagg\n",
        "import matplotlib\n",
        "import matplotlib.animation as animation\n",
        "import matplotlib.pyplot as plt\n",
        "plt.rcParams['axes.labelsize'] = 14\n",
        "plt.rcParams['xtick.labelsize'] = 12\n",
        "plt.rcParams['ytick.labelsize'] = 12\n",
        "\n",
        "# Where to save the figures\n",
        "PROJECT_ROOT_DIR = \"/content/MyDrive/MyDrive\"\n",
        "CHAPTER_ID = \"v1\"\n",
        "\n",
        "def save_fig(fig_id, tight_layout=True):\n",
        "    path = os.path.join(PROJECT_ROOT_DIR, \"images\", CHAPTER_ID, fig_id + \".png\")\n",
        "    print(\"Saving figure\", fig_id)\n",
        "    if tight_layout:\n",
        "        plt.tight_layout()\n",
        "    plt.savefig(path, format='png', dpi=300)"
      ],
      "metadata": {
        "id": "gB6BG9VDKlw4"
      },
      "execution_count": null,
      "outputs": []
    },
    {
      "cell_type": "code",
      "source": [
        "import gym \n",
        "from gym import Env\n",
        "from gym.spaces import Discrete, Box, Dict, Tuple, MultiBinary, MultiDiscrete \n",
        "import numpy as np\n",
        "import random\n",
        "import os\n",
        "!pip install pygame==2.1.0\n",
        "!pip install stable_baselines3\n",
        "import pygame\n",
        "from stable_baselines3 import PPO\n",
        "from stable_baselines3.common.vec_env import VecFrameStack\n",
        "from stable_baselines3.common.evaluation import evaluate_policy\n",
        "\n",
        "import gym\n",
        "from stable_baselines3.common.callbacks import StopTrainingOnNoModelImprovement, EvalCallback\n",
        "from gym.wrappers import FlattenObservation\n",
        "from gym.wrappers import TimeLimit\n",
        "import stable_baselines3\n",
        "from stable_baselines3 import PPO\n",
        "from stable_baselines3 import DQN\n",
        "from stable_baselines3.common.monitor import Monitor\n",
        "from stable_baselines3.common.evaluation import evaluate_policy\n",
        "from stable_baselines3.common.vec_env import DummyVecEnv\n",
        "from stable_baselines3.common.env_checker import check_env\n",
        "from stable_baselines3.common.evaluation import evaluate_policy"
      ],
      "metadata": {
        "colab": {
          "base_uri": "https://localhost:8080/"
        },
        "id": "kdw_S3iVK9Xv",
        "outputId": "d750c782-b6d9-4c07-c187-00f8a126f981"
      },
      "execution_count": null,
      "outputs": [
        {
          "output_type": "stream",
          "name": "stdout",
          "text": [
            "Looking in indexes: https://pypi.org/simple, https://us-python.pkg.dev/colab-wheels/public/simple/\n",
            "Requirement already satisfied: pygame==2.1.0 in /usr/local/lib/python3.8/dist-packages (2.1.0)\n",
            "Looking in indexes: https://pypi.org/simple, https://us-python.pkg.dev/colab-wheels/public/simple/\n",
            "Requirement already satisfied: stable_baselines3 in /usr/local/lib/python3.8/dist-packages (1.6.2)\n",
            "Requirement already satisfied: cloudpickle in /usr/local/lib/python3.8/dist-packages (from stable_baselines3) (1.5.0)\n",
            "Requirement already satisfied: numpy in /usr/local/lib/python3.8/dist-packages (from stable_baselines3) (1.21.6)\n",
            "Requirement already satisfied: gym==0.21 in /usr/local/lib/python3.8/dist-packages (from stable_baselines3) (0.21.0)\n",
            "Requirement already satisfied: pandas in /usr/local/lib/python3.8/dist-packages (from stable_baselines3) (1.3.5)\n",
            "Requirement already satisfied: importlib-metadata~=4.13 in /usr/local/lib/python3.8/dist-packages (from stable_baselines3) (4.13.0)\n",
            "Requirement already satisfied: matplotlib in /usr/local/lib/python3.8/dist-packages (from stable_baselines3) (3.2.2)\n",
            "Requirement already satisfied: torch>=1.11 in /usr/local/lib/python3.8/dist-packages (from stable_baselines3) (1.12.1+cu113)\n",
            "Requirement already satisfied: zipp>=0.5 in /usr/local/lib/python3.8/dist-packages (from importlib-metadata~=4.13->stable_baselines3) (3.10.0)\n",
            "Requirement already satisfied: typing-extensions in /usr/local/lib/python3.8/dist-packages (from torch>=1.11->stable_baselines3) (4.1.1)\n",
            "Requirement already satisfied: pyparsing!=2.0.4,!=2.1.2,!=2.1.6,>=2.0.1 in /usr/local/lib/python3.8/dist-packages (from matplotlib->stable_baselines3) (3.0.9)\n",
            "Requirement already satisfied: kiwisolver>=1.0.1 in /usr/local/lib/python3.8/dist-packages (from matplotlib->stable_baselines3) (1.4.4)\n",
            "Requirement already satisfied: cycler>=0.10 in /usr/local/lib/python3.8/dist-packages (from matplotlib->stable_baselines3) (0.11.0)\n",
            "Requirement already satisfied: python-dateutil>=2.1 in /usr/local/lib/python3.8/dist-packages (from matplotlib->stable_baselines3) (2.8.2)\n",
            "Requirement already satisfied: six>=1.5 in /usr/local/lib/python3.8/dist-packages (from python-dateutil>=2.1->matplotlib->stable_baselines3) (1.15.0)\n",
            "Requirement already satisfied: pytz>=2017.3 in /usr/local/lib/python3.8/dist-packages (from pandas->stable_baselines3) (2022.6)\n",
            "pygame 2.1.0 (SDL 2.0.16, Python 3.8.15)\n",
            "Hello from the pygame community. https://www.pygame.org/contribute.html\n"
          ]
        }
      ]
    },
    {
      "cell_type": "code",
      "source": [
        "import cv2\n",
        "from google.colab.patches import cv2_imshow\n",
        "from google.colab import output\n",
        "import time \n",
        "import os, sys"
      ],
      "metadata": {
        "id": "-E81ThqBLGOc"
      },
      "execution_count": null,
      "outputs": []
    },
    {
      "cell_type": "code",
      "source": [
        "import gym"
      ],
      "metadata": {
        "id": "BKhDHdRULOjq"
      },
      "execution_count": null,
      "outputs": []
    },
    {
      "cell_type": "code",
      "source": [
        "! pip install gym[atari,accept-rom-license]==0.21.0"
      ],
      "metadata": {
        "colab": {
          "base_uri": "https://localhost:8080/"
        },
        "id": "vKEatx4mLQGN",
        "outputId": "7c90de52-fea3-4fd3-fc81-04a2608a4ca4"
      },
      "execution_count": null,
      "outputs": [
        {
          "output_type": "stream",
          "name": "stdout",
          "text": [
            "Looking in indexes: https://pypi.org/simple, https://us-python.pkg.dev/colab-wheels/public/simple/\n",
            "Requirement already satisfied: gym[accept-rom-license,atari]==0.21.0 in /usr/local/lib/python3.8/dist-packages (0.21.0)\n",
            "Requirement already satisfied: cloudpickle>=1.2.0 in /usr/local/lib/python3.8/dist-packages (from gym[accept-rom-license,atari]==0.21.0) (1.5.0)\n",
            "Requirement already satisfied: numpy>=1.18.0 in /usr/local/lib/python3.8/dist-packages (from gym[accept-rom-license,atari]==0.21.0) (1.21.6)\n",
            "Requirement already satisfied: autorom[accept-rom-license]~=0.4.2 in /usr/local/lib/python3.8/dist-packages (from gym[accept-rom-license,atari]==0.21.0) (0.4.2)\n",
            "Requirement already satisfied: ale-py~=0.7.1 in /usr/local/lib/python3.8/dist-packages (from gym[accept-rom-license,atari]==0.21.0) (0.7.5)\n",
            "Requirement already satisfied: importlib-metadata>=4.10.0 in /usr/local/lib/python3.8/dist-packages (from ale-py~=0.7.1->gym[accept-rom-license,atari]==0.21.0) (4.13.0)\n",
            "Requirement already satisfied: importlib-resources in /usr/local/lib/python3.8/dist-packages (from ale-py~=0.7.1->gym[accept-rom-license,atari]==0.21.0) (5.10.0)\n",
            "Requirement already satisfied: click in /usr/local/lib/python3.8/dist-packages (from autorom[accept-rom-license]~=0.4.2->gym[accept-rom-license,atari]==0.21.0) (7.1.2)\n",
            "Requirement already satisfied: tqdm in /usr/local/lib/python3.8/dist-packages (from autorom[accept-rom-license]~=0.4.2->gym[accept-rom-license,atari]==0.21.0) (4.64.1)\n",
            "Requirement already satisfied: requests in /usr/local/lib/python3.8/dist-packages (from autorom[accept-rom-license]~=0.4.2->gym[accept-rom-license,atari]==0.21.0) (2.23.0)\n",
            "Requirement already satisfied: AutoROM.accept-rom-license in /usr/local/lib/python3.8/dist-packages (from autorom[accept-rom-license]~=0.4.2->gym[accept-rom-license,atari]==0.21.0) (0.4.2)\n",
            "Requirement already satisfied: zipp>=0.5 in /usr/local/lib/python3.8/dist-packages (from importlib-metadata>=4.10.0->ale-py~=0.7.1->gym[accept-rom-license,atari]==0.21.0) (3.10.0)\n",
            "Requirement already satisfied: certifi>=2017.4.17 in /usr/local/lib/python3.8/dist-packages (from requests->autorom[accept-rom-license]~=0.4.2->gym[accept-rom-license,atari]==0.21.0) (2022.9.24)\n",
            "Requirement already satisfied: urllib3!=1.25.0,!=1.25.1,<1.26,>=1.21.1 in /usr/local/lib/python3.8/dist-packages (from requests->autorom[accept-rom-license]~=0.4.2->gym[accept-rom-license,atari]==0.21.0) (1.24.3)\n",
            "Requirement already satisfied: chardet<4,>=3.0.2 in /usr/local/lib/python3.8/dist-packages (from requests->autorom[accept-rom-license]~=0.4.2->gym[accept-rom-license,atari]==0.21.0) (3.0.4)\n",
            "Requirement already satisfied: idna<3,>=2.5 in /usr/local/lib/python3.8/dist-packages (from requests->autorom[accept-rom-license]~=0.4.2->gym[accept-rom-license,atari]==0.21.0) (2.10)\n"
          ]
        }
      ]
    },
    {
      "cell_type": "code",
      "source": [
        "env = gym.make(\"MsPacman-v0\")#,render_mode='human')"
      ],
      "metadata": {
        "id": "mw7xXidfNaje"
      },
      "execution_count": null,
      "outputs": []
    },
    {
      "cell_type": "code",
      "source": [
        "# before proceeding please install 'OpenAI Gym' \n",
        "\n",
        "import gym\n",
        "import numpy as np\n",
        "\n",
        "%matplotlib inline\n",
        "import matplotlib.pyplot as plt\n",
        "import matplotlib.animation as anime"
      ],
      "metadata": {
        "id": "kga6W1AnLRVp"
      },
      "execution_count": null,
      "outputs": []
    },
    {
      "cell_type": "code",
      "source": [
        "# starting a new game and plotting the frame\n",
        "\n",
        "obs = env.reset()\n",
        "print(obs.shape) #[ht, wd, channels]\n",
        "\n",
        "plt.figure(figsize=(7, 7))\n",
        "plt.imshow(obs)\n",
        "plt.axis('off')\n",
        "\n",
        "# 9 possible actions in Pacman : 0,...,8\n",
        "# 0: no change, 1: up, 2: right, 3: left, 4: down, ...\n",
        "print('action_space :', env.action_space)"
      ],
      "metadata": {
        "colab": {
          "base_uri": "https://localhost:8080/",
          "height": 447
        },
        "id": "pJgPUTHULY9H",
        "outputId": "8e350696-1483-4b82-f773-d2199e2f6eb2"
      },
      "execution_count": null,
      "outputs": [
        {
          "output_type": "stream",
          "name": "stdout",
          "text": [
            "(210, 160, 3)\n",
            "action_space : Discrete(9)\n"
          ]
        },
        {
          "output_type": "display_data",
          "data": {
            "text/plain": [
              "<Figure size 504x504 with 1 Axes>"
            ],
            "image/png": "[encoded data removed]"
          },
          "metadata": {
            "needs_background": "light"
          }
        }
      ]
    },
    {
      "cell_type": "code",
      "source": [
        "# reducing the image size, crop for faster training\n",
        "\n",
        "def preprocess(obs):\n",
        "    img = obs[1:168:2, : : 2, :] # crop and downsize\n",
        "    img = img - 128 # normalize between -128 and 127\n",
        "    img = img.astype('int8') # saves memory\n",
        "    return img\n",
        "\n",
        "print('original obs shape :', obs.shape)\n",
        "print('new obs shape :', preprocess(obs).shape)\n",
        "print(obs.min(), obs.max(), preprocess(obs).min(), preprocess(obs).max())\n",
        "\n",
        "plt.imshow((preprocess(obs) + 128).astype('uint8')) # plt doesn't plot 'int8'\n",
        "plt.axis('off')"
      ],
      "metadata": {
        "colab": {
          "base_uri": "https://localhost:8080/",
          "height": 319
        },
        "id": "nahnUOPeLcba",
        "outputId": "dd4c0bea-7e81-4879-9b32-531d89d3ccfc"
      },
      "execution_count": null,
      "outputs": [
        {
          "output_type": "stream",
          "name": "stdout",
          "text": [
            "original obs shape : (210, 160, 3)\n",
            "new obs shape : (84, 80, 3)\n",
            "0 228 -128 100\n"
          ]
        },
        {
          "output_type": "execute_result",
          "data": {
            "text/plain": [
              "(-0.5, 79.5, 83.5, -0.5)"
            ]
          },
          "metadata": {},
          "execution_count": 14
        },
        {
          "output_type": "display_data",
          "data": {
            "text/plain": [
              "<Figure size 432x288 with 1 Axes>"
            ],
            "image/png": "[encoded data removed]"
          },
          "metadata": {
            "needs_background": "light"
          }
        }
      ]
    },
    {
      "cell_type": "code",
      "source": [
        "# constructing the online and target Q-nets\n",
        "\n",
        "import tensorflow as tf\n",
        "\n",
        "input_height = 84\n",
        "input_width = 80\n",
        "n_channels = 3 \n",
        "conv_n_maps = [32, 64, 64]\n",
        "conv_kernel_sizes = [(8, 8), (4, 4), (3, 3)]\n",
        "conv_strides = [4, 2, 1]\n",
        "conv_pads = ['SAME']*3\n",
        "conv_activation = [tf.nn.relu]*3\n",
        "n_hidden_in = conv_n_maps[2] * 11 * 10 # conv3 has 64 maps of 11x10 each\n",
        "n_hidden = 512\n",
        "hidden_activation = tf.nn.relu\n",
        "\n",
        "# we only allow 4 actions : 1: up, 2: right, 3: left, 4: down\n",
        "n_outputs = 4  # (in output vector, map is changed to 0: up, 1: right, 2: left, 3: down) \n",
        "\n",
        "# He-initializer\n",
        "he_init = tf.keras.initializers.VarianceScaling\n",
        "outputs_initializer = tf.keras.initializers.VarianceScaling"
      ],
      "metadata": {
        "id": "hz2YxRFULcxx"
      },
      "execution_count": null,
      "outputs": []
    },
    {
      "cell_type": "code",
      "source": [
        "tf.compat.v1.disable_eager_execution()\n",
        "# as we have to build 2 identitical Q-nets, lets define a func for it \n",
        "\n",
        "def q_net(X_inp, name):\n",
        "    X_inp_normalized = tf.cast(X_inp, dtype='float32') / 128.0\n",
        "    \n",
        "    with tf.compat.v1.variable_scope(name) as scope:\n",
        "        # all vars names will be prefixed with 'name'\n",
        "        \n",
        "        conv1 = tf.compat.v1.layers.conv2d(X_inp_normalized, filters=conv_n_maps[0], kernel_size=conv_kernel_sizes[0], \n",
        "                                 strides=conv_strides[0], padding=conv_pads[0], \n",
        "                                 activation=conv_activation[0], kernel_initializer=he_init)\n",
        "        conv2 = tf.compat.v1.layers.conv2d(conv1, filters=conv_n_maps[1], kernel_size=conv_kernel_sizes[1], \n",
        "                                 strides=conv_strides[1], padding=conv_pads[1], \n",
        "                                 activation=conv_activation[1], kernel_initializer=he_init)\n",
        "        conv3 = tf.compat.v1.layers.conv2d(conv2, filters=conv_n_maps[2], kernel_size=conv_kernel_sizes[2], \n",
        "                                 strides=conv_strides[2], padding=conv_pads[2], \n",
        "                                 activation=conv_activation[2], kernel_initializer=he_init)\n",
        "        hidden = tf.compat.v1.layers.dense(tf.reshape(conv3, shape=(-1, n_hidden_in)), \n",
        "                                 n_hidden, activation=hidden_activation, kernel_initializer=he_init)\n",
        "        outputs = tf.compat.v1.layers.dense(hidden, n_outputs, kernel_initializer=outputs_initializer)\n",
        "        \n",
        "        trainbale_vars = tf.compat.v1.get_collection(tf.compat.v1.GraphKeys.TRAINABLE_VARIABLES, scope=name)\n",
        "        \n",
        "    return outputs, trainbale_vars\n",
        "\n",
        "\n",
        "#tf.reset_default_graph()\n",
        "tf.compat.v1.reset_default_graph()\n",
        "\n",
        "X_state = tf.compat.v1.placeholder(dtype='int8', shape=(None, input_height, input_width, n_channels), name='X')\n",
        "\n",
        "q_vals_online, vars_online = q_net(X_state, 'online')\n",
        "q_vals_target, vars_target = q_net(X_state, 'target')"
      ],
      "metadata": {
        "colab": {
          "base_uri": "https://localhost:8080/"
        },
        "id": "zVeJGORELeQ0",
        "outputId": "2d7eeed1-3c88-489e-aae0-cfde37c54e76"
      },
      "execution_count": null,
      "outputs": [
        {
          "output_type": "stream",
          "name": "stderr",
          "text": [
            "<ipython-input-10-57f7c4be1690>:10: UserWarning: `tf.layers.conv2d` is deprecated and will be removed in a future version. Please Use `tf.keras.layers.Conv2D` instead.\n",
            "  conv1 = tf.compat.v1.layers.conv2d(X_inp_normalized, filters=conv_n_maps[0], kernel_size=conv_kernel_sizes[0],\n",
            "<ipython-input-10-57f7c4be1690>:13: UserWarning: `tf.layers.conv2d` is deprecated and will be removed in a future version. Please Use `tf.keras.layers.Conv2D` instead.\n",
            "  conv2 = tf.compat.v1.layers.conv2d(conv1, filters=conv_n_maps[1], kernel_size=conv_kernel_sizes[1],\n",
            "<ipython-input-10-57f7c4be1690>:16: UserWarning: `tf.layers.conv2d` is deprecated and will be removed in a future version. Please Use `tf.keras.layers.Conv2D` instead.\n",
            "  conv3 = tf.compat.v1.layers.conv2d(conv2, filters=conv_n_maps[2], kernel_size=conv_kernel_sizes[2],\n",
            "<ipython-input-10-57f7c4be1690>:19: UserWarning: `tf.layers.dense` is deprecated and will be removed in a future version. Please use `tf.keras.layers.Dense` instead.\n",
            "  hidden = tf.compat.v1.layers.dense(tf.reshape(conv3, shape=(-1, n_hidden_in)),\n",
            "<ipython-input-10-57f7c4be1690>:21: UserWarning: `tf.layers.dense` is deprecated and will be removed in a future version. Please use `tf.keras.layers.Dense` instead.\n",
            "  outputs = tf.compat.v1.layers.dense(hidden, n_outputs, kernel_initializer=outputs_initializer)\n"
          ]
        }
      ]
    },
    {
      "cell_type": "code",
      "source": [
        "# define a function for copying online vars to target vars\n",
        "\n",
        "assign_ops = []\n",
        "\n",
        "for i, var in enumerate(vars_target):\n",
        "    assign_ops.append(tf.compat.v1.assign(var, vars_online[i]))\n",
        "    \n",
        "copy_online_to_target = tf.group(*assign_ops)"
      ],
      "metadata": {
        "id": "-f6DKTR9Lf9X"
      },
      "execution_count": null,
      "outputs": []
    },
    {
      "cell_type": "code",
      "source": [
        "# defining loss func and training ops\n",
        "\n",
        "learning_rate = 0.001\n",
        "\n",
        "X_action = tf.compat.v1.placeholder('uint8', shape=(None)) # actions taken by online q-net\n",
        "y = tf.compat.v1.placeholder('float32', shape=(None, 1))  # q-val estimates using target q-net\n",
        "\n",
        "q_val_action = tf.compat.v1.reduce_sum(q_vals_online * tf.one_hot(X_action, n_outputs),\n",
        "                            axis=1, keepdims=True) #[batch_size, 1]\n",
        "\n",
        "# using L1 loss as in L2 loss the gradients are too unstable\n",
        "loss = tf.reduce_mean(tf.abs(q_val_action - y)) # L1 loss\n",
        "\n",
        "optimizer = tf.compat.v1.train.GradientDescentOptimizer(learning_rate=learning_rate)\n",
        "training_op = optimizer.minimize(loss)\n",
        "\n",
        "# checking for exploding grads\n",
        "bottom_grads = optimizer.compute_gradients(loss, var_list=[vars_online[0]])\n",
        "bottom_grads_norm = tf.norm(bottom_grads, ord=1) # reflects changes in smaller gradients\n",
        "\n",
        "#saver\n",
        "saver = tf.compat.v1.train.Saver()\n",
        "\n",
        "#init\n",
        "init = tf.compat.v1.global_variables_initializer()"
      ],
      "metadata": {
        "id": "CY9v7xhiLh5h"
      },
      "execution_count": null,
      "outputs": []
    },
    {
      "cell_type": "code",
      "source": [
        "# defining helper functions and game memory\n",
        "\n",
        "from collections import deque\n",
        "\n",
        "max_mem_size = 2000\n",
        "game_memory = deque([], max_mem_size) # a queue with max len\n",
        "\n",
        "epsilon0 = 1.0\n",
        "epsilon_min = 0.9\n",
        "eps_decay_steps = 2000000\n",
        "\n",
        "def epsilon_greedy(step, q_vals_eval):\n",
        "    # this is more relevant if you have the patience for training the net for a LONG time\n",
        "    #unfortunately we will not be doing so: hence epsilon_min is kept very high\n",
        "    epsilon = max(epsilon_min, epsilon0 - (epsilon0 - epsilon_min)*(step / eps_decay_steps))\n",
        "    if np.random.random() < epsilon:\n",
        "        return np.random.choice(n_outputs)\n",
        "    else:\n",
        "        return np.argmax(q_vals_eval)\n",
        "    \n",
        "def get_next_batch(batch_size, n_steps_train):\n",
        "    indices = np.random.permutation(-np.arange(1, n_steps_train))[:batch_size]\n",
        "    (batch_state, batch_action, batch_reward, batch_next_state, batch_continue) = ([], [], [], [], [])\n",
        "    for idx in indices:\n",
        "        state, action, reward, next_state, cont = game_memory[idx]     \n",
        "        batch_state.append(state)\n",
        "        batch_action.append(action)\n",
        "        batch_reward.append(reward)\n",
        "        batch_next_state.append(next_state)\n",
        "        batch_continue.append(cont)\n",
        "    batch_state = np.array(batch_state)\n",
        "    batch_next_state = np.array(batch_next_state)\n",
        "    batch_action = np.array(batch_action).reshape(batch_size, 1)\n",
        "    batch_reward = np.array(batch_reward).reshape(batch_size, 1)\n",
        "    batch_continue = np.array(batch_continue).reshape(batch_size, 1)\n",
        "    return batch_state, batch_action, batch_reward, batch_next_state, batch_continue"
      ],
      "metadata": {
        "id": "xDNWqSR9Lldf"
      },
      "execution_count": null,
      "outputs": []
    },
    {
      "cell_type": "code",
      "source": [
        "# starting a training session \n",
        "\n",
        "n_steps = 50000000 #1000000     # num steps to train for\n",
        "n_steps_train = 15     # train online q-net after these many steps\n",
        "n_steps_copy = 3000   # copy online net to target after these many steps\n",
        "discount_rate = 0.999999 \n",
        "batch_size = 3  \n",
        "skip_start = 85       # skip the start of every game (it's just waiting time in PacMan)\n",
        "training_start = 60   # start training after these many steps \n",
        "timer = 8             # update action after these life steps, this was determined using experiments\n",
        "\n",
        "sess = tf.compat.v1.InteractiveSession()\n",
        "init.run()\n",
        "\n",
        "step = 0\n",
        "done = True # has a game ended?\n",
        "game_memory = deque([], max_mem_size)\n",
        "\n",
        "# vars for keeping track of training progress\n",
        "opt_actions= deque([], n_steps_train)\n",
        "game_reward = 0  # total reward scored in a game\n",
        "n_games = 0\n",
        "last_10_losses = deque([], 10)  # a queue for storing last 10 training losses"
      ],
      "metadata": {
        "id": "RAbMq8HhLoo0"
      },
      "execution_count": null,
      "outputs": []
    },
    {
      "cell_type": "code",
      "source": [
        "from collections import Counter\n",
        "\n",
        "k_steps = []\n",
        "k_reward = []\n",
        "\n",
        "while step < n_steps:\n",
        "    step += 1\n",
        "    \n",
        "    if done:\n",
        "        # start a  new game\n",
        "        obs = env.reset()\n",
        "        # skip the start of each game as in pacman its just waiting\n",
        "        for skip in range(skip_start): \n",
        "                obs, reward, done, info = env.step(0)\n",
        "        state = preprocess(obs)\n",
        "        lives_left = 3\n",
        "        game_reward = 0\n",
        "        life_step = 0\n",
        "        n_games += 1\n",
        "        \n",
        "    \n",
        "    # determine the action using e-greedy policy on online q_net\n",
        "    q_vals_eval = q_vals_online.eval(feed_dict={X_state: state.reshape(1, input_height, input_width, n_channels)})[0]\n",
        "    opt_actions.append(1 + np.argmax(q_vals_eval))\n",
        "    \n",
        "    # update the action every 8 life steps\n",
        "    if life_step % timer == 0:\n",
        "        action = epsilon_greedy(step, q_vals_eval)\n",
        "            \n",
        "    #execute the action\n",
        "    (obs, reward, done, info) = env.step(action + 1)\n",
        "    next_state = preprocess(obs)\n",
        "    life_step += 1\n",
        "    game_reward += int(reward)\n",
        "    \n",
        "    # record this step in game memory\n",
        "    game_memory.append((state, action, reward, next_state, 1 - done))\n",
        "\n",
        "    k_steps.append(step)\n",
        "    k_reward.append(reward)\n",
        "    \n",
        "    # skip the start of each new life as in pacman its just waiting\n",
        "    if lives_left != info['lives']:\n",
        "        lives_left = info['lives']\n",
        "        life_step = 0\n",
        "        for skip in range(35): \n",
        "            obs, reward, done, info = env.step(0)\n",
        "    \n",
        "\n",
        "    if step < training_start:\n",
        "        # there are not enough game memories to train usefully\n",
        "        continue\n",
        "        \n",
        "    if step % n_steps_train == 0:\n",
        "        # train the online q_net \n",
        "        batch_state, batch_action, batch_reward, batch_next_state, batch_continue = get_next_batch(batch_size, n_steps_train)\n",
        "        # estimate the q_online vals using reward and q_target val\n",
        "        q_target_eval = q_vals_target.eval(feed_dict={X_state: batch_next_state}) # [batch_size, n_outputs]\n",
        "        q_target_eval_max = np.max(q_target_eval, axis=1).reshape(-1, 1) # [batch_size, 1]\n",
        "        q_est = batch_reward + discount_rate * q_target_eval_max * batch_continue # [batch_size, 1]\n",
        "        loss_eval, _, b_grads_norm = sess.run([loss, training_op, bottom_grads_norm], \n",
        "                                             feed_dict={X_state: batch_state, \n",
        "                                                        X_action: batch_action.reshape(-1), y: q_est}\n",
        "                                            )\n",
        "        # queue the loss\n",
        "        last_10_losses.append(loss_eval)\n",
        "        \n",
        "        if step % 300 == 0:\n",
        "            # print the mean of last 10 train losses, bottom grads norm , etc\n",
        "            print(step, ':', '%.1f' % np.mean(last_10_losses), dict(Counter(opt_actions)), b_grads_norm, end='  ')\n",
        "            opt_actions= deque([], n_steps_train)\n",
        "            \n",
        "        # exploding bottom layer grads\n",
        "        if loss_eval > 2e14 or b_grads_norm > 2e14:\n",
        "            print('-------------DIVERGED----------------')\n",
        "            break\n",
        "        \n",
        "    if step % n_steps_copy == 0:\n",
        "        # copy online q_net vars to target q_net\n",
        "        sess.run(copy_online_to_target)\n",
        "        print('|copy|', end=' ')"
      ],
      "metadata": {
        "colab": {
          "base_uri": "https://localhost:8080/"
        },
        "id": "Lg9ZrB5WLpRu",
        "outputId": "454a257c-cc3e-436b-f2bf-c5f21a0c3dfc"
      },
      "execution_count": null,
      "outputs": [
        {
          "output_type": "stream",
          "name": "stdout",
          "text": [
            "300 : 0.8 {3: 15} 438.00638  600 : 0.4 {3: 15} 442.93353  900 : 0.4 {4: 15} 395.78662  1200 : 0.1 {3: 15} 433.98923  1500 : 0.1 {2: 15} 438.33527  1800 : 0.0 {3: 15} 420.16275  2100 : 1.7 {4: 15} 394.58484  2400 : 0.0 {1: 15} 430.04858  2700 : 1.1 {2: 15} 431.17197  3000 : 0.7 {3: 4, 1: 11} 455.78833  |copy| 3300 : 1.0 {4: 15} 432.94382  3600 : 0.4 {2: 15} 395.2578  3900 : 1.4 {3: 15} 460.0889  4200 : 0.4 {1: 15} 431.11514  4500 : 2.4 {3: 15} 438.686  4800 : 0.4 {2: 15} 427.3663  5100 : 0.7 {2: 15} 421.20862  5400 : 0.0 {3: 15} 427.90207  5700 : 0.7 {2: 15} 394.0126  6000 : 1.4 {1: 15} 392.9389  |copy| 6300 : 0.4 {2: 15} 426.38608  6600 : 0.7 {1: 15} 428.76184  6900 : 0.7 {3: 15} 430.57288  7200 : 0.7 {2: 15} 412.34592  7500 : 0.4 {4: 15} 446.328  7800 : 1.7 {2: 15} 392.60535  8100 : 13.7 {2: 15} 424.86368  8400 : 2.0 {2: 15} 427.54257  8700 : 2.4 {1: 15} 394.79745  9000 : 1.0 {4: 15} 417.94092  |copy| 9300 : 1.0 {1: 15} 434.5769  9600 : 0.4 {4: 15} 393.6176  9900 : 1.0 {2: 15} 438.8061  10200 : 0.4 {3: 15} 445.07895  10500 : 1.4 {2: 15} 453.06876  10800 : 0.0 {1: 15} 427.1132  11100 : 0.7 {3: 15} 442.9903  11400 : 0.7 {4: 15} 444.52814  11700 : 0.4 {4: 15} 391.04504  12000 : 0.0 {2: 15} 450.35828  |copy| 12300 : 0.7 {3: 15} 422.10297  12600 : 1.0 {4: 15} 447.65594  12900 : 0.0 {1: 15} 453.5993  13200 : 0.0 {3: 15} 429.21634  13500 : 0.0 {3: 15} 429.83017  13800 : 1.7 {1: 15} 392.10773  14100 : 0.7 {2: 15} 423.50284  14400 : 0.7 {4: 15} 388.77805  14700 : 1.7 {2: 15} 419.15567  15000 : 1.4 {3: 15} 423.86777  |copy| 15300 : 0.7 {3: 15} 392.1412  15600 : 0.7 {4: 15} 405.89523  15900 : 0.7 {3: 15} 402.1617  16200 : 0.4 {3: 15} 389.96637  16500 : 1.4 {2: 15} 434.91772  16800 : 1.3 {2: 15} 428.06583  17100 : 1.4 {2: 15} 408.60773  17400 : 0.7 {4: 15} 443.739  17700 : 0.4 {2: 15} 409.27554  18000 : 1.4 {4: 15} 421.58203  |copy| 18300 : 1.0 {4: 15} 448.83105  18600 : 0.4 {2: 15} 419.61618  18900 : 1.0 {3: 15} 391.2331  19200 : 0.7 {1: 15} 434.07352  19500 : 0.4 {2: 15} 413.31992  19800 : 0.0 {2: 15} 421.28235  20100 : 0.3 {2: 15} 441.52313  20400 : 1.4 {2: 15} 443.60468  20700 : 0.0 {3: 13, 2: 2} 420.76172  21000 : 0.4 {4: 15} 434.802  |copy| 21300 : 1.3 {3: 15} 442.05426  21600 : 0.4 {3: 15} 441.5927  21900 : 1.7 {4: 15} 391.6068  22200 : 0.7 {1: 15} 389.0651  22500 : 2.0 {2: 15} 388.12744  22800 : 0.0 {3: 15} 412.87158  23100 : 1.4 {2: 15} 422.4275  23400 : 0.4 {2: 15} 430.49402  23700 : 0.7 {3: 15} 414.5722  24000 : 0.7 {4: 15} 411.37668  |copy| 24300 : 0.7 {1: 15} 390.22067  24600 : 0.4 {4: 15} 441.51068  24900 : 0.4 {1: 15} 390.8841  25200 : 0.0 {4: 15} 389.82587  25500 : 1.0 {3: 15} 430.99042  25800 : 1.7 {2: 15} 443.03442  26100 : 0.7 {2: 15} 436.88538  26400 : 0.3 {1: 15} 435.10208  26700 : 1.0 {3: 15} 390.92776  27000 : 0.4 {2: 15} 446.8885  |copy| 27300 : 0.4 {4: 15} 415.51556  27600 : 1.0 {4: 15} 390.2408  27900 : 1.0 {2: 15} 415.8722  28200 : 0.7 {4: 15} 407.13367  28500 : 1.7 {4: 15} 425.92224  28800 : 0.0 {1: 15} 427.69232  29100 : 0.3 {3: 15} 434.87646  29400 : 0.7 {2: 15} 410.6793  29700 : 1.4 {4: 15} 424.02115  30000 : 0.0 {2: 15} 412.63998  |copy| 30300 : 1.3 {2: 15} 402.9104  30600 : 0.4 {3: 15} 409.09088  30900 : 7.7 {4: 15} 389.35703  31200 : 0.7 {2: 15} 408.74298  31500 : 0.4 {3: 15} 386.89935  31800 : 0.3 {1: 15} 386.75467  32100 : 1.0 {1: 15} 426.36575  32400 : 1.7 {4: 15} 391.47998  32700 : 0.0 {2: 15} 432.92096  33000 : 2.4 {3: 15} 437.37732  |copy| 33300 : 0.4 {2: 15} 431.73383  33600 : 1.3 {2: 15} 413.8157  33900 : 0.0 {3: 15} 389.5314  34200 : 0.4 {1: 15} 401.58252  34500 : 7.0 {2: 15} 442.84903  34800 : 1.7 {2: 15} 388.34518  35100 : 0.7 {1: 15} 387.4552  35400 : 1.0 {1: 15} 388.8777  35700 : 1.0 {1: 15} 425.97247  36000 : 2.3 {1: 15} 427.25763  |copy| 36300 : 0.0 {4: 15} 414.9179  36600 : 0.4 {1: 15} 399.0898  36900 : 0.0 {4: 15} 412.3399  37200 : 3.7 {1: 15} 415.0678  37500 : 0.3 {3: 15} 389.79367  37800 : 0.4 {3: 15} 439.47058  38100 : 0.7 {4: 15} 443.5533  38400 : 0.7 {3: 15} 435.4662  38700 : 1.0 {4: 15} 387.83615  39000 : 0.3 {3: 15} 406.91638  |copy| 39300 : 0.3 {4: 15} 440.99182  39600 : 0.7 {1: 15} 425.09143  39900 : 0.3 {4: 15} 435.94635  40200 : 0.0 {1: 15} 432.3678  40500 : 2.7 {2: 15} 408.68768  40800 : 0.0 {3: 15} 433.48865  41100 : 0.0 {2: 15} 442.17468  41400 : 0.4 {4: 15} 445.167  41700 : 1.0 {4: 15} 439.29333  42000 : 0.4 {2: 15} 426.36462  |copy| 42300 : 1.0 {3: 15} 408.09204  42600 : 0.0 {3: 15} 423.38318  42900 : 0.3 {1: 15} 411.91266  43200 : 0.0 {2: 15} 425.67294  43500 : 0.0 {1: 15} 436.2411  43800 : 1.0 {4: 15} 427.19968  44100 : 0.0 {4: 15} 389.00485  44400 : 0.4 {2: 15} 415.37817  44700 : 0.3 {3: 15} 439.46146  45000 : 1.3 {4: 15} 419.53015  |copy| 45300 : 1.3 {2: 15} 424.01343  45600 : 0.7 {3: 15} 429.00824  45900 : 1.3 {3: 15} 436.70132  46200 : 1.3 {4: 15} 440.90286  46500 : 0.3 {4: 15} 421.84528  46800 : 1.3 {1: 15} 435.97684  47100 : 0.3 {2: 15} 432.39612  47400 : 2.0 {4: 15} 422.61  47700 : 0.7 {1: 15} 388.11127  48000 : 0.0 {4: 15} 440.96643  |copy| 48300 : 0.0 {2: 15} 416.54675  48600 : 1.3 {3: 15} 423.2145  48900 : 0.0 {3: 15} 405.84497  49200 : 1.0 {1: 15} 429.86948  49500 : 1.3 {3: 15} 387.2687  49800 : 1.7 {3: 15} 387.29907  50100 : 0.7 {1: 15} 412.0932  50400 : 0.3 {4: 15} 418.35992  50700 : 1.7 {1: 15} 386.64404  51000 : 0.0 {3: 15} 419.5428  |copy| 51300 : 1.7 {4: 15} 430.21722  51600 : 1.0 {2: 15} 423.5465  51900 : 0.0 {3: 15} 422.83316  52200 : 1.7 {4: 15} 435.32367  52500 : 1.0 {1: 15} 386.3372  52800 : 0.0 {3: 15} 407.35696  53100 : 0.3 {3: 15} 384.84116  53400 : 1.7 {4: 15} 429.81357  53700 : 0.3 {2: 15} 420.5798  54000 : 0.3 {1: 15} 424.8059  |copy| 54300 : 0.3 {3: 15} 398.38458  54600 : 1.3 {3: 15} 386.37723  54900 : 0.7 {4: 15} 428.63733  55200 : 0.3 {3: 15} 387.63843  55500 : 0.7 {4: 15} 422.04373  55800 : 0.4 {1: 15} 437.46753  56100 : 1.7 {3: 15} 386.7269  56400 : 0.7 {2: 15} 385.07315  56700 : 0.0 {1: 15} 408.52106  57000 : 0.3 {1: 15} 423.8326  |copy| 57300 : 0.0 {3: 15} 385.0263  57600 : 0.3 {4: 15} 420.35538  57900 : 0.0 {3: 15} 421.952  58200 : 1.7 {4: 15} 405.75262  58500 : 0.4 {4: 15} 419.68274  58800 : 0.7 {4: 15} 428.94672  59100 : 1.7 {4: 15} 419.15656  59400 : 1.7 {3: 15} 413.74487  59700 : 0.0 {2: 15} 410.94003  60000 : 0.7 {3: 15} 428.78226  |copy| 60300 : 1.0 {4: 15} 398.63928  60600 : 0.0 {4: 15} 387.73376  60900 : 0.3 {4: 15} 421.32117  61200 : 0.3 {2: 15} 435.7084  61500 : 0.3 {3: 15} 420.14972  61800 : 1.3 {3: 15} 397.34338  62100 : 1.7 {1: 15} 427.52817  62400 : 1.0 {1: 15} 431.94803  62700 : 4.0 {1: 15} 386.9831  63000 : 0.3 {1: 15} 420.66895  |copy| 63300 : 1.0 {4: 15} 405.9829  63600 : 0.0 {4: 15} 407.68213  63900 : 1.0 {1: 15} 426.20837  64200 : 0.0 {3: 15} 385.33594  64500 : 0.0 {1: 15} 414.63754  64800 : 1.0 {4: 15} 386.60687  65100 : 2.3 {2: 15} 405.3649  65400 : 0.7 {4: 15} 402.9948  65700 : 0.3 {2: 15} 384.84464  66000 : 1.4 {2: 15} 438.94226  |copy| 66300 : 1.3 {1: 15} 398.7468  66600 : 1.0 {4: 15} 387.22055  66900 : 0.0 {2: 15} 431.7381  67200 : 0.3 {4: 15} 387.55145  67500 : 0.3 {2: 15} 424.76352  67800 : 0.0 {1: 15} 429.51202  68100 : 1.0 {2: 15} 387.8621  68400 : 0.7 {4: 15} 401.50607  68700 : 0.3 {4: 15} 386.655  69000 : 1.0 {2: 15} 400.15485  |copy| 69300 : 0.3 {1: 15} 405.99036  69600 : 0.3 {2: 15} 419.50137  69900 : 0.7 {3: 15} 418.70142  70200 : 1.3 {3: 15} 422.50867  70500 : 0.0 {4: 15} 385.24597  70800 : 0.7 {2: 15} 401.23602  71100 : 1.3 {4: 15} 385.19955  71400 : 0.0 {4: 15} 420.32346  71700 : 0.7 {2: 15} 387.32037  72000 : 0.7 {3: 15} 405.3361  |copy| 72300 : 0.0 {1: 15} 384.86743  72600 : 0.7 {4: 15} 404.30908  72900 : 1.0 {3: 15} 387.41632  73200 : 0.3 {4: 15} 400.66037  73500 : 1.0 {2: 15} 384.9689  73800 : 0.3 {4: 15} 402.98062  74100 : 2.3 {2: 15} 386.54218  74400 : 1.0 {1: 15} 414.9236  74700 : 0.7 {1: 15} 384.76  75000 : 0.7 {2: 15} 402.58408  |copy| 75300 : 0.0 {1: 15} 419.7411  75600 : 0.7 {2: 15} 384.7488  75900 : 1.0 {4: 15} 385.0978  76200 : 2.0 {4: 15} 384.807  76500 : 13.3 {4: 15} 404.5479  76800 : 0.7 {2: 15} 383.96136  77100 : 1.3 {3: 15} 386.215  77400 : 0.3 {2: 15} 385.77298  77700 : 1.0 {3: 15} 416.82635  78000 : 0.3 {4: 15} 425.84875  |copy| 78300 : 40.3 {3: 15} 401.71054  78600 : 1.4 {2: 15} 422.9521  78900 : 0.3 {1: 15} 404.55554  79200 : 0.3 {2: 15} 398.73804  79500 : 0.7 {3: 15} 398.60495  79800 : 0.3 {3: 15} 426.2046  80100 : 1.0 {4: 15} 402.3846  80400 : 0.3 {2: 15} 417.92004  80700 : 1.0 {3: 15} 426.06396  81000 : 0.7 {2: 15} 416.45123  |copy| 81300 : 1.0 {4: 15} 416.75436  81600 : 0.0 {3: 15} 419.2727  81900 : 1.3 {2: 15} 403.63998  82200 : 0.3 {2: 15} 405.5926  82500 : 0.0 {1: 15} 383.94946  82800 : 0.7 {4: 15} 412.47952  83100 : 0.7 {1: 15} 416.88873  83400 : 0.3 {2: 15} 384.46033  83700 : 1.7 {4: 15} 423.16345  84000 : 0.7 {1: 15} 384.5297  |copy| 84300 : 0.0 {1: 15} 415.34024  84600 : 0.7 {4: 15} 383.7996  84900 : 0.7 {3: 15} 384.25696  85200 : 0.3 {1: 15} 416.98947  85500 : 0.3 {3: 15} 383.98358  85800 : 0.0 {1: 15} 423.34406  86100 : 0.0 {2: 15} 415.08755  86400 : 1.0 {4: 15} 414.19263  86700 : 0.0 {2: 15} 384.31683  87000 : 0.3 {3: 15} 414.90967  |copy| 87300 : 0.7 {3: 15} 422.6887  87600 : 0.7 {2: 15} 425.2696  87900 : 0.7 {2: 15} 382.84122  88200 : 1.0 {1: 15} 414.291  88500 : 0.0 {4: 15} 401.17166  88800 : 1.0 {3: 15} 422.56985  89100 : 0.7 {4: 15} 384.00485  89400 : 0.7 {4: 15} 422.11484  89700 : 0.3 {1: 15} 420.30078  90000 : 0.0 {2: 15} 414.03503  |copy| 90300 : 1.3 {4: 15} 408.15393  90600 : 1.0 {4: 15} 384.43826  90900 : 0.7 {3: 15} 383.4404  91200 : 0.7 {1: 15} 403.83655  91500 : 0.0 {3: 15} 382.88007  91800 : 1.0 {4: 15} 422.11005  92100 : 1.0 {2: 15} 383.04565  92400 : 0.7 {1: 15} 422.8304  92700 : 1.0 {2: 15} 402.63666  93000 : 0.3 {3: 15} 383.42657  |copy| 93300 : 0.3 {1: 15} 422.57916  93600 : 0.7 {3: 15} 382.42184  93900 : 0.7 {2: 15} 421.9835  94200 : 0.3 {2: 15} 383.56036  94500 : 0.0 {2: 15} 412.98413  94800 : 1.0 {4: 15} 383.547  95100 : 0.3 {1: 15} 414.33218  95400 : 0.0 {1: 15} 382.95532  95700 : 0.7 {4: 15} 410.9711  96000 : 0.3 {3: 15} 401.7084  |copy| 96300 : 1.3 {1: 15} 419.94458  96600 : 2.0 {2: 15} 402.26086  96900 : 2.0 {2: 15} 407.22205  97200 : 0.7 {3: 15} 382.32892  97500 : 0.7 {3: 15} 410.90668  97800 : 0.3 {1: 13, 4: 2} 383.6297  98100 : 1.3 {1: 15} 382.43466  98400 : 1.0 {3: 15} 421.07272  98700 : 2.0 {2: 15} 409.61804  99000 : 1.0 {3: 15} 382.60895  |copy| 99300 : 1.3 {1: 15} 382.3123  99600 : 1.7 {3: 15} 383.76508  99900 : 0.7 {2: 15} 384.00833  100200 : 2.0 {4: 15} 411.53  100500 : 1.0 {4: 15} 421.16205  100800 : 0.3 {2: 15} 422.00974  101100 : 0.3 {4: 15} 401.4459  101400 : 0.7 {3: 15} 411.73315  101700 : 1.0 {2: 15} 382.2714  102000 : 0.7 {2: 15} 418.91772  |copy| 102300 : 0.0 {3: 5, 2: 10} 401.3571  102600 : 0.7 {2: 15} 382.25372  102900 : 1.3 {2: 15} 402.1499  103200 : 3.3 {2: 15} 398.48953  103500 : 0.7 {2: 15} 411.46698  103800 : 0.3 {3: 15} 393.85535  104100 : 1.3 {1: 15} 408.9768  104400 : 1.3 {4: 15} 410.25928  104700 : 1.7 {2: 15} 382.2042  105000 : 0.3 {2: 15} 382.93674  |copy| 105300 : 0.3 {3: 15} 408.73694  105600 : 1.0 {2: 15} 418.123  105900 : 1.7 {1: 15} 383.53937  106200 : 0.0 {2: 15} 403.49823  106500 : 1.0 {3: 15} 382.73816  106800 : 0.7 {1: 15} 397.15567  107100 : 0.7 {4: 15} 410.9209  107400 : 0.7 {3: 15} 383.02112  107700 : 1.3 {3: 15} 402.17014  108000 : 0.3 {1: 15} 381.2822  |copy| 108300 : 1.7 {4: 15} 396.52133  108600 : 0.3 {1: 15} 385.91415  108900 : 0.3 {3: 15} 416.87842  109200 : 1.3 {3: 15} 407.90457  109500 : 0.3 {4: 15} 396.7516  109800 : 0.7 {1: 15} 420.63538  110100 : 0.3 {1: 15} 420.63342  110400 : 0.7 {3: 15} 409.99026  110700 : 1.0 {3: 15} 408.3043  111000 : 0.3 {1: 15} 380.88876  |copy| 111300 : 0.3 {1: 15} 420.0854  111600 : 1.0 {3: 15} 380.76575  111900 : 0.7 {2: 15} 397.4533  112200 : 1.3 {3: 15} 382.4868  112500 : 1.0 {4: 15} 411.76343  112800 : 1.0 {4: 15} 402.62418  113100 : 0.0 {3: 15} 389.8335  113400 : 0.7 {1: 15} 421.56464  113700 : 1.7 {1: 15} 382.27307  114000 : 0.0 {2: 15} 420.95938  |copy| 114300 : 1.3 {1: 15} 382.64825  114600 : 1.0 {4: 15} 407.79837  114900 : 0.7 {2: 15} 400.4985  115200 : 0.3 {2: 15} 408.56232  115500 : 0.7 {2: 15} 382.81094  115800 : 1.0 {2: 15} 400.70233  116100 : 1.0 {2: 15} 409.81982  116400 : 0.7 {3: 15} 400.31766  116700 : 0.7 {4: 15} 383.60605  117000 : 0.3 {1: 15} 389.8154  |copy| 117300 : 0.3 {1: 15} 418.57755  117600 : 1.0 {1: 15} 381.7103  117900 : 0.7 {3: 15} 382.57544  118200 : 0.3 {3: 15} 382.22827  118500 : 1.7 {4: 15} 381.71683  118800 : 16.7 {1: 15} 381.8002  119100 : 0.0 {1: 15} 382.38007  119400 : 0.7 {2: 15} 415.28604  119700 : 0.3 {2: 15} 398.9465  120000 : 1.0 {1: 15} 418.54648  |copy| 120300 : 1.0 {1: 15} 416.50006  120600 : 0.0 {2: 15} 381.90887  120900 : 1.3 {4: 15} 415.4859  121200 : 1.7 {1: 15} 418.75006  121500 : 2.0 {4: 15} 419.56305  121800 : 0.0 {2: 15} 410.41058  122100 : 0.0 {2: 15} 413.3761  122400 : 0.7 {2: 15} 398.69006  122700 : 2.0 {1: 15} 418.19373  123000 : 0.0 {2: 15} 381.29077  |copy| 123300 : 0.3 {4: 15} 399.63336  123600 : 0.3 {2: 15} 406.97272  123900 : 0.3 {4: 15} 415.50568  124200 : 0.7 {1: 15} 381.17395  124500 : 0.7 {1: 15} 420.1236  124800 : 1.3 {3: 15} 380.8399  125100 : 0.0 {2: 15} 401.0697  125400 : 0.3 {3: 15} 409.42368  125700 : 1.0 {4: 15} 421.417  126000 : 1.0 {1: 15} 420.94406  |copy| 126300 : 2.0 {4: 15} 409.25522  126600 : 0.0 {2: 15} 420.27057  126900 : 1.0 {2: 15} 405.698  127200 : 1.0 {3: 15} 380.3753  127500 : 0.7 {2: 15} 380.7306  127800 : 0.7 {4: 15} 415.58054  128100 : 1.7 {1: 15} 404.4093  128400 : 0.0 {2: 15} 406.38748  128700 : 1.0 {3: 15} 401.00436  129000 : 0.3 {1: 15} 414.6816  |copy| 129300 : 0.0 {4: 15} 411.40182  129600 : 1.0 {3: 15} 406.69427  129900 : 7.7 {2: 15} 380.25128  130200 : 1.0 {1: 15} 381.94907  130500 : 0.7 {2: 15} 381.94244  130800 : 1.0 {4: 15} 380.89822  131100 : 0.0 {2: 15} 409.61475  131400 : 1.7 {2: 15} 415.85294  131700 : 0.3 {1: 15} 380.9469  132000 : 1.7 {2: 15} 390.24362  |copy| 132300 : 0.7 {1: 15} 382.06848  132600 : 1.0 {3: 15} 380.3795  132900 : 0.7 {2: 15} 404.7484  133200 : 0.0 {1: 15} 417.0998  133500 : 1.0 {2: 15} 381.24954  133800 : 0.3 {2: 15} 417.35696  134100 : 1.3 {4: 15} 381.22003  134400 : 1.7 {4: 15} 381.0047  134700 : 1.0 {1: 15} 380.7784  135000 : 0.3 {1: 15} 410.26086  |copy| 135300 : 3.0 {3: 15} 400.3548  135600 : 0.7 {1: 15} 381.85315  135900 : 0.0 {2: 15} 408.13757  136200 : 1.7 {1: 15} 381.07794  136500 : 0.7 {1: 15} 380.3861  136800 : 1.0 {2: 15} 416.37164  137100 : 0.7 {4: 15} 381.0332  137400 : 0.7 {4: 15} 380.26575  137700 : 2.0 {2: 15} 415.51245  138000 : 0.7 {1: 15} 398.14246  |copy| 138300 : 1.7 {2: 15} 403.85977  138600 : 0.7 {2: 15} 380.6047  138900 : 0.7 {1: 15} 397.4806  139200 : 1.0 {4: 15} 390.98547  139500 : 0.0 {3: 15} 380.05383  139800 : 1.7 {4: 15} 397.22696  140100 : 0.0 {1: 15} 417.34723  140400 : 1.0 {4: 15} 382.02127  140700 : 0.3 {1: 15} 401.85144  141000 : 1.0 {3: 15} 396.79407  |copy| 141300 : 0.7 {3: 15} 399.48126  141600 : 0.0 {4: 15} 396.52945  141900 : 0.7 {3: 15} 417.6527  142200 : 13.3 {2: 15} 406.3687  142500 : 0.0 {1: 15} 414.36243  142800 : 0.7 {4: 15} 399.3873  143100 : 2.0 {2: 15} 417.4945  143400 : 0.0 {3: 15} 407.57077  143700 : 1.0 {2: 15} 406.11182  144000 : 1.3 {1: 15} 406.3996  |copy| 144300 : 0.0 {2: 15} 409.62485  144600 : 0.7 {4: 15} 381.149  144900 : 1.3 {3: 15} 405.1089  145200 : 1.0 {2: 15} 405.80994  145500 : 0.3 {1: 15} 405.1552  145800 : 0.3 {2: 15} 380.16626  146100 : 0.3 {2: 15} 404.7448  146400 : 0.3 {4: 15} 381.41205  146700 : 1.0 {4: 15} 416.69553  147000 : 0.0 {2: 15} 380.9706  |copy| 147300 : 1.0 {3: 15} 388.43866  147600 : 1.3 {1: 15} 415.69495  147900 : 2.7 {2: 15} 380.9469  148200 : 0.3 {1: 15} 381.2113  148500 : 0.0 {4: 15} 392.05826  148800 : 3.3 {4: 15} 416.3389  149100 : 0.7 {4: 15} 401.15402  149400 : 0.3 {4: 15} 388.8483  149700 : 0.7 {2: 15} 400.15967  150000 : 1.3 {2: 15} 379.4936  |copy| 150300 : 0.3 {4: 15} 414.2363  150600 : 0.3 {2: 15} 380.7743  150900 : 1.7 {3: 15} 418.1098  151200 : 2.7 {3: 15} 399.32874  151500 : 0.3 {2: 15} 381.8039  151800 : 1.0 {3: 15} 379.5684  152100 : 0.0 {4: 15} 413.61023  152400 : 0.7 {4: 15} 406.71112  152700 : 0.0 {4: 15} 402.72882  153000 : 0.7 {3: 15} 413.83813  |copy| 153300 : 1.0 {4: 15} 403.96896  153600 : 0.7 {3: 15} 401.83353  153900 : 1.0 {3: 15} 379.51062  154200 : 0.0 {2: 15} 401.84808  154500 : 0.7 {3: 15} 390.4215  154800 : 0.3 {1: 15} 396.69678  155100 : 2.7 {4: 15} 379.6974  155400 : 0.3 {2: 15} 380.60352  155700 : 0.7 {4: 15} 396.16864  156000 : 1.3 {4: 15} 380.50403  |copy| 156300 : 0.7 {3: 15} 397.2051  156600 : 0.0 {1: 15} 415.30133  156900 : 0.7 {1: 15} 414.51657  157200 : 0.3 {2: 15} 398.1248  157500 : 1.0 {4: 15} 380.49207  157800 : 0.7 {2: 15} 409.73218  158100 : 0.7 {3: 15} 382.44107  158400 : 0.7 {2: 15} 405.05493  158700 : 1.7 {2: 15} 380.54224  159000 : 0.7 {2: 15} 401.84302  |copy| 159300 : 0.7 {2: 15} 413.21808  159600 : 0.3 {4: 15} 379.47446  159900 : 0.7 {1: 15} 379.52704  160200 : 0.0 {1: 15} 416.7054  160500 : 1.3 {1: 7, 4: 8} 397.13174  160800 : 1.0 {2: 15} 389.0028  161100 : 0.4 {4: 15} 405.49042  161400 : 0.0 {3: 15} 402.162  161700 : 1.7 {1: 15} 379.9171  162000 : 2.0 {1: 15} 404.88684  |copy| 162300 : 1.7 {2: 15} 380.1405  162600 : 1.0 {2: 15} 379.81638  162900 : 0.7 {2: 15} 380.19244  163200 : 0.7 {1: 15} 406.6269  163500 : 0.0 {1: 15} 379.81567  163800 : 1.3 {1: 15} 404.9358  164100 : 0.0 {3: 15} 402.6935  164400 : 1.0 {3: 15} 402.71835  164700 : 2.0 {1: 15} 379.76303  165000 : 1.3 {1: 15} 379.80682  |copy| 165300 : 0.3 {2: 15} 397.50934  165600 : 0.0 {3: 15} 395.60352  165900 : 2.0 {2: 15} 388.234  166200 : 2.0 {2: 15} 379.89084  166500 : 0.7 {3: 15} 379.89948  166800 : 0.3 {4: 15} 412.97324  167100 : 0.7 {3: 15} 413.39008  167400 : 1.0 {1: 15} 402.30743  167700 : 0.3 {3: 15} 378.9078  168000 : 0.7 {2: 15} 388.78323  |copy| 168300 : 1.0 {4: 15} 379.72403  168600 : 0.3 {3: 15} 378.76767  168900 : 1.0 {2: 15} 412.3344  169200 : 1.3 {2: 15} 378.88757  169500 : 1.0 {1: 15} 396.4049  169800 : 1.0 {3: 15} 401.6555  170100 : 0.3 {1: 15} 396.19315  170400 : 1.0 {1: 15} 397.39343  170700 : 0.7 {2: 15} 405.3235  171000 : 1.0 {4: 15} 379.4381  |copy| 171300 : 0.3 {4: 15} 409.267  171600 : 0.7 {2: 15} 401.45526  171900 : 1.0 {2: 15} 401.89536  172200 : 0.0 {4: 15} 382.20483  172500 : 0.0 {4: 15} 405.1814  172800 : 1.7 {2: 15} 403.03647  173100 : 1.3 {4: 15} 380.14334  173400 : 7.3 {1: 15} 393.8743  173700 : 0.0 {2: 15} 378.97015  174000 : 0.7 {4: 15} 410.01602  |copy| 174300 : 0.7 {4: 15} 395.58682  174600 : 1.3 {4: 15} 379.17548  174900 : 0.3 {2: 15} 402.5348  175200 : 7.7 {4: 15} 410.92413  175500 : 1.3 {1: 15} 395.15363  175800 : 0.3 {1: 15} 379.3661  176100 : 0.7 {2: 15} 386.55695  176400 : 27.3 {1: 15} 401.3448  176700 : 1.3 {2: 15} 379.8642  177000 : 1.0 {3: 15} 402.641  |copy| 177300 : 0.3 {4: 15} 416.52106  177600 : 2.3 {3: 15} 401.705  177900 : 0.7 {3: 15} 398.65903  178200 : 0.0 {4: 15} 408.55923  178500 : 0.3 {3: 15} 415.66937  178800 : 0.0 {1: 15} 399.54132  179100 : 1.7 {2: 15} 378.56168  179400 : 1.0 {3: 15} 378.62527  179700 : 0.7 {3: 15} 379.60272  180000 : 0.7 {4: 15} 380.7143  |copy| 180300 : 1.0 {3: 15} 410.5741  180600 : 1.7 {1: 15} 381.20825  180900 : 1.3 {2: 15} 407.3201  181200 : 1.3 {2: 15} 412.12637  181500 : 1.7 {3: 15} 410.38876  181800 : 0.3 {2: 15} 394.66696  182100 : 0.0 {3: 15} 410.5911  182400 : 8.7 {4: 15} 403.0659  182700 : 0.7 {4: 15} 378.9493  183000 : 1.3 {4: 15} 378.2963  |copy| 183300 : 1.0 {2: 15} 405.02356  183600 : 0.3 {4: 15} 412.55933  183900 : 0.3 {2: 15} 402.00922  184200 : 1.7 {1: 15} 393.28275  184500 : 1.7 {4: 15} 409.83197  184800 : 1.0 {3: 15} 404.7826  185100 : 1.3 {2: 15} 414.629  185400 : 0.0 {3: 15} 379.95898  185700 : 0.7 {4: 15} 380.62585  186000 : 0.0 {2: 15} 379.912  |copy| 186300 : 0.0 {3: 15} 413.60428  186600 : 0.3 {2: 15} 403.00864  186900 : 0.3 {1: 15} 379.9786  187200 : 0.0 {2: 15} 398.62836  187500 : 0.0 {1: 15} 410.52045  187800 : 0.0 {1: 15} 378.6128  188100 : 0.7 {1: 15} 378.53815  188400 : 0.0 {1: 15} 388.94708  188700 : 0.3 {2: 15} 379.87332  189000 : 1.0 {1: 15} 378.21747  |copy| 189300 : 0.3 {1: 15} 401.14185  189600 : 1.0 {2: 15} 381.2103  189900 : 0.0 {4: 15} 415.6006  190200 : 1.3 {3: 15} 408.48035  190500 : 1.3 {1: 15} 395.6673  190800 : 0.3 {2: 15} 408.89072  191100 : 0.7 {3: 15} 379.02695  191400 : 0.3 {3: 15} 378.73337  191700 : 1.0 {3: 15} 396.39746  192000 : 0.7 {1: 15} 399.30515  |copy| 192300 : 0.3 {1: 15} 400.7971  192600 : 1.0 {3: 15} 378.35733  192900 : 1.3 {4: 15} 411.40073  193200 : 1.0 {1: 15} 393.1499  193500 : 0.0 {2: 15} 398.74243  193800 : 1.0 {1: 15} 399.6247  194100 : 1.0 {2: 15} 399.86322  194400 : 0.3 {1: 15} 380.24768  194700 : 0.3 {3: 15} 413.09525  195000 : 0.0 {4: 15} 398.2422  |copy| 195300 : 1.0 {2: 15} 406.53876  195600 : 0.3 {1: 8, 4: 7} 395.13342  195900 : 1.0 {2: 15} 379.3961  196200 : 0.7 {3: 15} 396.2628  196500 : 0.7 {3: 15} 409.99945  196800 : 0.3 {3: 15} 377.93253  197100 : 0.7 {4: 15} 396.93942  197400 : 1.7 {2: 15} 379.3236  197700 : 0.3 {4: 15} 408.78412  198000 : 1.0 {1: 15} 398.64224  |copy| 198300 : 0.7 {1: 15} 408.66174  198600 : 1.0 {1: 15} 378.68997  198900 : 1.0 {2: 15} 395.73685  199200 : 0.3 {2: 15} 395.28104  199500 : 0.7 {4: 15} 405.48233  199800 : 0.7 {1: 15} 378.11148  200100 : 1.0 {2: 15} 393.31754  200400 : 0.3 {2: 15} 378.67822  200700 : 0.3 {4: 15} 378.19455  201000 : 0.3 {4: 15} 377.8585  |copy| 201300 : 1.7 {2: 15} 400.03726  201600 : 0.0 {3: 15} 379.3186  201900 : 1.0 {4: 15} 378.9759  202200 : 0.3 {3: 15} 379.08154  202500 : 0.3 {1: 15} 378.30426  202800 : 1.0 {2: 15} 377.47903  203100 : 1.3 {4: 15} 378.17532  203400 : 1.0 {4: 15} 399.8666  203700 : 1.0 {2: 15} 378.73962  204000 : 1.0 {1: 15} 379.79974  |copy| 204300 : 0.7 {2: 15} 391.8887  204600 : 0.7 {1: 15} 396.43735  204900 : 0.7 {1: 15} 378.3405  205200 : 0.0 {1: 15} 409.86334  205500 : 1.3 {1: 15} 395.95734  205800 : 0.3 {1: 15} 378.22937  206100 : 1.7 {3: 15} 377.2778  206400 : 1.0 {4: 15} 377.07986  206700 : 1.0 {3: 15} 410.2768  207000 : 0.0 {4: 15} 376.87646  |copy| 207300 : 1.7 {3: 15} 377.43802  207600 : 0.3 {3: 15} 378.52393  207900 : 0.7 {2: 15} 400.05  208200 : 0.3 {3: 15} 392.85342  208500 : 1.3 {3: 15} 378.8659  208800 : 1.3 {2: 15} 395.99622  209100 : 1.0 {3: 15} 377.7245  209400 : 0.7 {4: 15} 399.51898  209700 : 2.0 {2: 15} 378.4612  210000 : 0.0 {3: 15} 392.3946  |copy| 210300 : 0.0 {3: 15} 377.44736  210600 : 0.3 {1: 15} 393.24878  210900 : 1.0 {1: 15} 395.60278  211200 : 0.7 {2: 15} 402.9421  211500 : 0.0 {2: 15} 395.93805  211800 : 1.0 {3: 15} 394.73618  212100 : 0.7 {2: 15} 378.55292  212400 : 2.0 {4: 15} 394.26105  212700 : 0.7 {1: 15} 401.03296  213000 : 1.3 {4: 15} 406.90448  |copy| 213300 : 1.0 {2: 15} 404.26587  213600 : 0.0 {1: 15} 398.0235  213900 : 0.7 {1: 15} 377.05063  214200 : 0.3 {4: 15} 377.3886  214500 : 1.0 {1: 15} 399.85983  214800 : 0.7 {2: 15} 400.04108  215100 : 0.3 {4: 15} 378.32904  215400 : 0.3 {2: 15} 377.5114  215700 : 1.7 {4: 15} 412.00098  216000 : 0.3 {2: 15} 393.26517  |copy| 216300 : 1.0 {1: 15} 405.72507  216600 : 0.7 {4: 15} 379.18536  216900 : 0.7 {2: 15} 377.45105  217200 : 0.0 {3: 15} 395.75516  217500 : 0.7 {2: 15} 392.33475  217800 : 0.3 {1: 15} 378.74268  218100 : 0.0 {3: 15} 404.98248  218400 : 0.0 {4: 15} 400.00076  218700 : 0.0 {3: 15} 404.5472  219000 : 0.7 {2: 15} 409.94366  |copy| 219300 : 1.0 {1: 15} 393.25607  219600 : 0.3 {4: 15} 395.93323  219900 : 1.0 {3: 15} 396.658  220200 : 1.0 {2: 15} 377.70978  220500 : 1.0 {1: 15} 407.19394  220800 : 2.0 {1: 15} 395.80133  221100 : 0.0 {3: 15} 377.92233  221400 : 1.0 {4: 15} 378.4261  221700 : 0.3 {4: 15} 377.60956  222000 : 0.7 {1: 15} 394.044  |copy| 222300 : 3.7 {4: 15} 376.24863  222600 : 0.7 {4: 15} 408.02817  222900 : 0.3 {1: 15} 402.59296  223200 : 1.3 {2: 15} 406.7854  223500 : 0.0 {1: 15} 379.97702  223800 : 0.3 {1: 15} 376.34744  224100 : 0.7 {2: 15} 391.75336  224400 : 0.7 {2: 15} 378.1759  224700 : 0.3 {4: 15} 406.55923  225000 : 0.3 {2: 15} 378.15387  |copy| 225300 : 0.0 {4: 15} 407.9054  225600 : 0.3 {4: 15} 378.84338  225900 : 0.7 {4: 15} 378.32825  226200 : 1.3 {3: 15} 377.76404  226500 : 0.0 {4: 15} 398.26855  226800 : 0.7 {2: 15} 410.9386  227100 : 0.7 {1: 15} 377.286  227400 : 1.0 {3: 15} 377.71814  227700 : 2.7 {1: 15} 404.83908  228000 : 0.3 {3: 15} 394.50165  |copy| 228300 : 0.3 {4: 15} 403.15366  228600 : 0.3 {1: 15} 378.0905  228900 : 0.3 {3: 15} 376.46732  229200 : 0.0 {3: 15} 385.88232  229500 : 1.0 {2: 15} 378.56396  229800 : 1.7 {1: 15} 377.5697  230100 : 0.0 {3: 15} 394.54388  230400 : 1.3 {2: 15} 377.29614  230700 : 0.7 {4: 14, 3: 1} 397.39285  231000 : 0.3 {1: 15} 396.7422  |copy| 231300 : 0.3 {3: 15} 408.29413  231600 : 0.7 {2: 15} 397.88895  231900 : 28.0 {1: 15} 391.7784  232200 : 0.7 {4: 15} 396.4667  232500 : 1.0 {4: 15} 379.4016  232800 : 1.0 {4: 15} 377.3496  233100 : 1.0 {1: 15} 397.32077  233400 : 1.0 {1: 15} 405.61783  233700 : 0.3 {1: 15} 376.90646  234000 : 0.0 {1: 15} 406.89716  |copy| 234300 : 1.3 {1: 15} 404.72516  234600 : 0.0 {2: 15} 403.37698  234900 : 1.7 {1: 15} 405.5927  235200 : 1.3 {3: 15} 401.91742  235500 : 0.3 {2: 15} 376.93298  235800 : 0.0 {2: 15} 385.18646  236100 : 0.7 {4: 15} 394.13748  236400 : 0.7 {2: 15} 376.3765  236700 : 0.7 {3: 15} 376.58224  237000 : 0.0 {2: 15} 393.74857  |copy| 237300 : 1.0 {3: 15} 378.21793  237600 : 2.7 {4: 15} 392.97852  237900 : 0.3 {2: 15} 408.11615  238200 : 0.7 {3: 15} 411.4927  238500 : 0.3 {2: 15} 399.591  238800 : 1.0 {2: 15} 378.54852  239100 : 0.7 {3: 15} 395.56653  239400 : 0.7 {1: 15} 394.0455  239700 : 1.3 {3: 15} 402.7717  240000 : 0.7 {2: 15} 391.41382  |copy| 240300 : 1.3 {4: 15} 393.70685  240600 : 2.0 {3: 15} 397.33896  240900 : 0.3 {4: 15} 377.711  241200 : 0.7 {1: 15} 378.92206  241500 : 0.3 {3: 15} 377.3198  241800 : 0.3 {4: 15} 378.30087  242100 : 1.3 {1: 15} 396.7646  242400 : 0.3 {4: 15} 377.19608  242700 : 1.3 {3: 15} 376.87637  243000 : 0.0 {2: 15} 385.8491  |copy| 243300 : 1.0 {1: 15} 401.18747  243600 : 0.3 {4: 15} 378.92313  243900 : 1.0 {4: 15} 391.66583  244200 : 1.0 {4: 15} 378.67056  244500 : 0.0 {2: 15} 404.3597  244800 : 1.3 {2: 15} 377.02625  245100 : 1.7 {4: 15} 406.50275  245400 : 0.0 {3: 15} 392.3651  245700 : 0.7 {2: 15} 377.53635  246000 : 1.3 {3: 15} 377.92664  |copy| 246300 : 1.3 {1: 15} 386.14154  246600 : 0.0 {1: 15} 376.60263  246900 : 0.7 {4: 15} 391.09583  247200 : 0.3 {3: 15} 395.9002  247500 : 0.0 {1: 15} 405.87442  247800 : 1.7 {1: 15} 394.66385  248100 : 0.0 {3: 15} 403.43076  248400 : 0.0 {1: 15} 395.41376  248700 : 0.7 {3: 15} 396.0228  249000 : 0.3 {1: 15} 385.27216  |copy| 249300 : 0.0 {3: 15} 376.07068  249600 : 1.0 {2: 15} 392.8431  249900 : 0.3 {1: 15} 405.1752  250200 : 1.0 {4: 15} 376.35464  250500 : 0.3 {2: 15} 403.4104  250800 : 1.0 {4: 15} 377.23788  251100 : 0.3 {1: 15} 393.64047  251400 : 0.3 {4: 15} 377.6063  251700 : 1.0 {4: 15} 394.00824  252000 : 1.0 {2: 15} 391.92914  |copy| 252300 : 0.0 {3: 15} 393.24933  252600 : 2.7 {2: 15} 392.98502  252900 : 0.0 {1: 15} 406.09644  253200 : 0.0 {2: 15} 376.15887  253500 : 0.7 {2: 15} 376.87506  253800 : 0.3 {4: 15} 393.93576  254100 : 0.3 {1: 15} 376.2533  254400 : 0.0 {1: 15} 402.02844  254700 : 1.0 {2: 15} 393.7434  255000 : 1.3 {4: 15} 389.84668  |copy| 255300 : 2.0 {4: 15} 376.398  255600 : 0.0 {3: 15} 376.22842  255900 : 0.0 {4: 15} 377.7137  256200 : 1.7 {3: 15} 377.6493  256500 : 0.7 {2: 15} 394.42188  256800 : 1.3 {2: 15} 376.62155  257100 : 0.3 {3: 15} 395.6739  257400 : 0.3 {4: 15} 405.3272  257700 : 1.0 {2: 15} 393.44037  258000 : 1.0 {1: 15} 376.32516  |copy| 258300 : 1.3 {4: 15} 391.68747  258600 : 1.0 {1: 15} 390.8981  258900 : 0.7 {2: 15} 405.72632  259200 : 0.7 {4: 15} 376.75058  259500 : 0.7 {1: 15} 376.79703  259800 : 0.0 {3: 15} 397.34735  260100 : 0.3 {1: 15} 375.5069  260400 : 0.3 {3: 15} 375.86713  260700 : 0.7 {1: 15} 406.1473  261000 : 0.7 {1: 15} 392.52042  |copy| 261300 : 1.3 {1: 15} 402.95926  261600 : 1.3 {1: 15} 397.9817  261900 : 1.3 {3: 15} 377.4526  262200 : 0.0 {3: 15} 394.5882  262500 : 0.3 {1: 15} 375.49878  262800 : 1.3 {1: 15} 392.51855  263100 : 0.0 {1: 15} 376.0773  263400 : 0.7 {1: 15} 396.52057  263700 : 2.3 {1: 15} 403.547  264000 : 0.7 {2: 15} 375.5525  |copy| 264300 : 1.0 {2: 15} 391.67935  264600 : 0.7 {2: 15} 376.85385  264900 : 0.3 {2: 15} 397.96936  265200 : 1.7 {2: 15} 393.11386  265500 : 0.0 {4: 15} 376.4438  265800 : 1.3 {3: 15} 407.11047  266100 : 2.0 {2: 15} 378.0985  266400 : 0.3 {1: 15} 376.4959  266700 : 1.3 {1: 15} 405.64435  267000 : 1.0 {1: 15} 395.89572  |copy| 267300 : 2.0 {2: 15} 376.63513  267600 : 0.0 {2: 15} 392.2544  267900 : 0.3 {1: 15} 392.72083  268200 : 0.3 {4: 15} 391.67822  268500 : 0.3 {2: 15} 392.06076  268800 : 0.7 {2: 15} 391.0043  269100 : 0.7 {4: 15} 394.9634  269400 : 0.3 {4: 15} 386.90576  269700 : 0.7 {1: 15} 393.57477  270000 : 0.0 {4: 15} 392.37476  |copy| 270300 : 0.7 {3: 15} 393.87885  270600 : 13.7 {2: 15} 378.4212  270900 : 1.3 {3: 15} 391.26266  271200 : 0.3 {1: 15} 409.56372  271500 : 0.0 {3: 15} 405.92795  271800 : 0.7 {3: 15} 391.04382  272100 : 0.3 {2: 15} 399.15497  272400 : 1.0 {1: 15} 393.4723  272700 : 0.0 {1: 15} 376.50574  273000 : 0.3 {3: 15} 393.77243  |copy| 273300 : 0.3 {2: 15} 391.58954  273600 : 1.7 {1: 15} 378.06015  273900 : 1.3 {4: 15} 399.17065  274200 : 0.0 {2: 15} 377.70697  274500 : 0.7 {1: 15} 391.21274  274800 : 1.3 {4: 15} 402.78183  275100 : 0.7 {2: 15} 375.29974  275400 : 0.0 {2: 15} 375.08957  275700 : 0.0 {1: 15} 385.9931  276000 : 0.0 {4: 15} 375.6209  |copy| 276300 : 1.0 {1: 15} 375.33615  276600 : 0.0 {4: 15} 393.04776  276900 : 0.3 {3: 15} 375.1344  277200 : 0.3 {4: 15} 375.19183  277500 : 0.3 {1: 3, 3: 12} 394.06335  277800 : 1.7 {1: 15} 393.5837  278100 : 0.3 {3: 15} 393.2265  278400 : 1.3 {2: 15} 391.8822  278700 : 0.7 {2: 15} 387.68756  279000 : 0.3 {1: 15} 388.21667  |copy| 279300 : 0.3 {3: 15} 395.7198  279600 : 0.0 {4: 15} 389.63782  279900 : 0.3 {2: 15} 391.24725  280200 : 0.0 {4: 15} 376.9618  280500 : 1.0 {4: 15} 395.3101  280800 : 0.0 {2: 15} 390.53827  281100 : 0.7 {2: 15} 376.37482  281400 : 2.0 {2: 15} 390.8722  281700 : 0.7 {3: 15} 377.1722  282000 : 0.3 {3: 3, 4: 12} 376.48834  |copy| 282300 : 0.3 {1: 15} 399.5196  282600 : 0.3 {3: 15} 399.926  282900 : 0.0 {2: 15} 379.9476  283200 : 1.0 {2: 15} 376.02777  283500 : 0.0 {3: 15} 376.02142  283800 : 0.0 {3: 15} 392.71292  284100 : 1.0 {1: 15} 397.66385  284400 : 1.0 {4: 15} 401.031  284700 : 0.7 {4: 15} 375.22363  285000 : 0.7 {4: 15} 402.80176  |copy| 285300 : 1.0 {2: 15} 375.5953  285600 : 0.3 {1: 15} 375.72217  285900 : 0.7 {3: 15} 375.00558  286200 : 1.0 {4: 15} 392.09314  286500 : 0.3 {1: 15} 390.43582  286800 : 0.0 {1: 15} 396.09875  287100 : 0.3 {3: 15} 375.17865  287400 : 0.3 {4: 15} 402.9977  287700 : 0.7 {1: 15} 390.58813  288000 : 0.7 {3: 15} 376.89023  |copy| 288300 : 1.0 {2: 15} 399.61145  288600 : 1.0 {1: 15} 394.45694  288900 : 0.0 {4: 15} 375.6483  289200 : 0.0 {1: 15} 389.83112  289500 : 1.7 {2: 15} 377.06805  289800 : 0.7 {2: 15} 389.77008  290100 : 0.3 {3: 15} 403.59442  290400 : 0.0 {1: 15} 394.0232  290700 : 0.7 {3: 15} 391.00333  291000 : 0.0 {4: 15} 391.22998  |copy| 291300 : 0.7 {1: 15} 411.73892  291600 : 0.0 {4: 15} 378.55945  291900 : 0.3 {3: 15} 400.0833  292200 : 1.0 {3: 15} 374.96207  292500 : 0.7 {1: 15} 400.53378  292800 : 1.0 {3: 15} 390.31638  293100 : 0.0 {2: 15} 376.20822  293400 : 0.0 {3: 4, 4: 11} 401.04962  293700 : 1.0 {2: 15} 399.85373  294000 : 0.7 {1: 15} 375.62363  |copy| 294300 : 0.3 {3: 15} 375.29987  294600 : 1.0 {2: 15} 389.34854  294900 : 0.0 {4: 15} 391.52686  295200 : 0.7 {1: 15} 398.31824  295500 : 0.7 {2: 15} 403.10052  295800 : 1.0 {2: 15} 400.3858  296100 : 0.0 {1: 15} 376.76483  296400 : 0.7 {2: 15} 389.71613  296700 : 0.3 {3: 15} 376.58313  297000 : 1.0 {4: 15} 375.36655  |copy| 297300 : 0.3 {1: 15} 393.82422  297600 : 0.3 {4: 15} 375.42664  297900 : 0.7 {1: 15} 376.929  298200 : 0.7 {1: 15} 392.80908  298500 : 0.3 {2: 15} 398.53455  298800 : 1.3 {4: 15} 407.66287  299100 : 0.0 {4: 15} 377.71042  299400 : 1.0 {4: 15} 376.951  299700 : 0.3 {4: 15} 377.20694  300000 : 0.0 {2: 15} 398.91888  |copy| 300300 : 0.3 {3: 15} 377.19388  300600 : 0.7 {4: 15} 392.09195  300900 : 0.0 {4: 15} 394.21356  301200 : 0.7 {4: 15} 376.0504  301500 : 0.3 {4: 15} 391.96817  301800 : 1.0 {4: 15} 390.2828  302100 : 1.0 {3: 15} 391.1718  302400 : 0.7 {3: 15} 389.3423  302700 : 0.3 {2: 15} 390.39542  303000 : 1.0 {3: 15} 374.86664  |copy| 303300 : 1.0 {2: 15} 374.79807  303600 : 7.0 {1: 15} 399.75403  303900 : 0.7 {3: 15} 396.32864  304200 : 0.3 {1: 15} 396.03574  304500 : 1.0 {1: 15} 378.10138  304800 : 0.3 {1: 15} 378.0724  305100 : 0.0 {2: 15} 377.59088  305400 : 0.7 {3: 15} 390.76077  305700 : 1.0 {1: 15} 375.48254  306000 : 0.0 {3: 15} 390.01114  |copy| 306300 : 0.0 {4: 15} 376.0399  306600 : 0.3 {4: 15} 390.1211  306900 : 2.3 {4: 15} 391.95267  307200 : 0.0 {1: 15} 389.01135  307500 : 2.3 {2: 15} 397.7644  307800 : 1.0 {1: 15} 399.34354  308100 : 0.3 {2: 15} 405.48273  308400 : 0.7 {4: 15} 383.0111  308700 : 0.3 {1: 15} 403.44366  309000 : 0.7 {4: 15} 398.82764  |copy| 309300 : 0.7 {1: 15} 374.96536  309600 : 1.3 {4: 15} 392.8992  309900 : 1.0 {4: 15} 375.37753  310200 : 0.7 {3: 15} 374.8439  310500 : 1.0 {1: 15} 376.42734  310800 : 1.3 {1: 15} 387.9627  311100 : 0.3 {4: 15} 375.3812  311400 : 1.7 {2: 15} 390.24646  311700 : 1.0 {4: 15} 376.7035  312000 : 0.7 {1: 15} 375.39154  |copy| 312300 : 3.3 {3: 15} 387.30948  312600 : 0.7 {4: 15} 402.88135  312900 : 1.3 {1: 15} 389.22733  313200 : 1.3 {4: 15} 375.62167  313500 : 1.0 {2: 15} 390.4092  313800 : 2.0 {4: 15} 402.90277  314100 : 1.7 {4: 15} 376.16095  314400 : 0.3 {4: 15} 374.82056  314700 : 0.3 {2: 15} 374.81177  315000 : 0.3 {2: 15} 387.693  |copy| 315300 : 0.3 {3: 15} 382.90582  315600 : 1.3 {3: 15} 374.89444  315900 : 0.7 {2: 15} 374.963  316200 : 0.0 {3: 15} 374.82907  316500 : 1.0 {3: 15} 389.1508  316800 : 0.7 {3: 15} 374.9595  317100 : 7.3 {3: 15} 374.88434  317400 : 6.7 {4: 15} 391.12494  317700 : 1.0 {2: 15} 394.01703  318000 : 0.7 {3: 15} 375.6298  |copy| 318300 : 0.7 {4: 15} 376.66324  318600 : 1.0 {1: 15} 389.61487  318900 : 0.0 {4: 15} 390.38232  319200 : 0.7 {4: 15} 375.2096  319500 : 1.3 {3: 15} 389.2081  319800 : 0.7 {1: 15} 392.26147  320100 : 0.0 {2: 15} 374.54132  320400 : 4.3 {1: 15} 374.25027  320700 : 1.0 {1: 15} 376.39005  321000 : 0.7 {2: 15} 400.64758  |copy| 321300 : 0.7 {4: 15} 401.54434  321600 : 1.3 {1: 15} 392.68097  321900 : 0.3 {1: 15} 390.25732  322200 : 0.3 {2: 15} 375.3491  322500 : 0.7 {2: 15} 389.48505  322800 : 0.3 {3: 15} 390.07214  323100 : 0.7 {1: 15} 403.75833  323400 : 1.7 {3: 15} 374.8211  323700 : 0.7 {2: 15} 398.3822  324000 : 0.7 {1: 15} 399.11655  |copy| 324300 : 1.0 {3: 15} 397.0169  324600 : 1.0 {4: 15} 389.31122  324900 : 1.3 {2: 15} 395.24136  325200 : 1.0 {2: 15} 396.44965  325500 : 1.0 {2: 15} 374.5581  325800 : 0.7 {4: 15} 375.63177  326100 : 0.3 {2: 15} 393.54694  326400 : 0.3 {1: 15} 400.73856  326700 : 0.3 {2: 15} 400.17535  327000 : 0.3 {3: 15} 378.6226  |copy| 327300 : 0.7 {1: 15} 392.9791  327600 : 1.7 {1: 15} 390.97855  327900 : 1.0 {2: 15} 386.07996  328200 : 1.7 {3: 15} 376.6553  328500 : 1.0 {4: 15} 391.16013  328800 : 0.0 {4: 15} 402.59222  329100 : 0.7 {2: 15} 389.84015  329400 : 1.7 {2: 15} 374.70502  329700 : 0.0 {3: 15} 375.5852  330000 : 0.0 {1: 15} 400.56342  |copy| 330300 : 0.7 {2: 15} 374.5936  330600 : 0.7 {4: 15} 387.85043  330900 : 0.3 {1: 15} 393.98514  331200 : 0.7 {3: 15} 398.8123  331500 : 0.0 {4: 15} 399.85376  331800 : 0.7 {4: 15} 402.73178  332100 : 0.3 {4: 15} 386.91373  332400 : 0.0 {3: 15} 389.22528  332700 : 1.0 {2: 15} 380.67233  333000 : 0.7 {4: 15} 375.1798  |copy| 333300 : 0.7 {4: 15} 386.32797  333600 : 0.3 {3: 15} 391.67178  333900 : 0.3 {4: 15} 387.03812  334200 : 0.0 {3: 15} 389.68204  334500 : 0.3 {1: 15} 374.73682  334800 : 0.0 {2: 15} 388.6484  335100 : 1.7 {4: 15} 389.87955  335400 : 1.7 {2: 15} 374.72327  335700 : 2.0 {3: 15} 376.02023  336000 : 1.3 {2: 15} 402.3384  |copy| 336300 : 0.0 {4: 15} 388.05984  336600 : 0.3 {2: 15} 387.75412  336900 : 0.7 {4: 15} 388.4155  337200 : 2.0 {4: 15} 390.59183  337500 : 0.3 {2: 15} 376.07117  337800 : 0.3 {3: 15} 389.64066  338100 : 1.3 {1: 15} 376.4267  338400 : 1.3 {4: 15} 374.77084  338700 : 0.0 {4: 15} 376.9844  339000 : 1.7 {4: 15} 374.59772  |copy| 339300 : 0.0 {4: 15} 373.97092  339600 : 0.0 {3: 15} 401.5436  339900 : 1.7 {2: 15} 385.71796  340200 : 0.3 {3: 15} 390.60803  340500 : 1.0 {4: 15} 387.51715  340800 : 0.3 {3: 15} 375.3915  341100 : 0.0 {1: 15} 393.04233  341400 : 0.7 {1: 15} 397.29456  341700 : 1.0 {4: 15} 374.82886  342000 : 1.3 {1: 15} 391.05292  |copy| 342300 : 0.3 {2: 15} 390.24622  342600 : 1.0 {3: 15} 391.23874  342900 : 1.0 {3: 15} 376.43802  343200 : 0.3 {3: 15} 400.17096  343500 : 0.3 {2: 15} 385.9415  343800 : 1.3 {4: 15} 395.01294  344100 : 0.3 {1: 15} 390.4158  344400 : 0.3 {1: 15} 375.22595  344700 : 0.0 {2: 15} 376.1514  345000 : 0.7 {3: 15} 375.13733  |copy| 345300 : 1.0 {1: 15} 389.89038  345600 : 0.3 {2: 15} 386.58017  345900 : 1.3 {4: 15} 391.98395  346200 : 0.7 {3: 15} 374.5163  346500 : 0.7 {1: 15} 374.96774  346800 : 1.0 {4: 15} 381.7317  347100 : 0.7 {4: 15} 376.67786  347400 : 1.3 {2: 15} 385.47818  347700 : 1.3 {1: 15} 399.436  348000 : 0.0 {4: 15} 374.3872  |copy| 348300 : 0.0 {4: 15} 376.14948  348600 : 0.0 {4: 15} 393.98874  348900 : 1.0 {2: 15} 395.75665  349200 : 0.7 {1: 15} 376.8043  349500 : 3.7 {1: 15} 390.35077  349800 : 0.0 {1: 15} 401.88675  350100 : 0.7 {3: 15} 376.08517  350400 : 0.0 {3: 15} 388.4562  350700 : 1.0 {1: 15} 393.1486  351000 : 1.0 {3: 15} 388.49597  |copy| 351300 : 0.3 {1: 15} 394.70044  351600 : 0.3 {1: 15} 387.99158  351900 : 1.0 {2: 15} 375.03214  352200 : 1.3 {4: 15} 376.01648  352500 : 0.7 {1: 15} 391.61856  352800 : 0.0 {4: 15} 384.90714  353100 : 0.3 {1: 15} 393.40155  353400 : 0.7 {3: 15} 376.54303  353700 : 0.7 {1: 15} 385.52942  354000 : 1.0 {4: 15} 387.74237  |copy| 354300 : 0.7 {4: 15} 388.36804  354600 : 0.0 {4: 15} 376.10193  354900 : 1.0 {2: 15} 389.48816  355200 : 14.3 {4: 15} 374.26813  355500 : 1.7 {2: 15} 395.02158  355800 : 1.0 {1: 15} 374.5821  356100 : 0.7 {2: 15} 377.1633  356400 : 0.0 {1: 15} 377.1123  356700 : 0.0 {2: 15} 374.6768  357000 : 0.3 {1: 15} 375.5767  |copy| 357300 : 1.0 {2: 15} 404.3753  357600 : 0.3 {3: 15} 376.17627  357900 : 1.3 {4: 15} 375.0566  358200 : 2.0 {2: 15} 376.01523  358500 : 0.7 {1: 15} 388.50388  358800 : 1.3 {3: 15} 387.9137  359100 : 0.7 {1: 15} 375.95984  359400 : 0.0 {1: 15} 387.26938  359700 : 0.0 {1: 15} 381.666  360000 : 0.7 {4: 15} 395.83615  |copy| 360300 : 1.0 {3: 15} 390.24625  360600 : 1.0 {3: 15} 376.12155  360900 : 0.0 {1: 15} 391.73892  361200 : 0.3 {1: 15} 380.85526  361500 : 1.0 {1: 15} 374.39804  361800 : 0.7 {2: 15} 389.40326  362100 : 0.0 {3: 15} 395.90353  362400 : 0.3 {2: 15} 392.38568  362700 : 0.3 {4: 15} 396.0918  363000 : 0.0 {3: 15} 387.42572  |copy| 363300 : 0.7 {4: 15} 376.02472  363600 : 1.0 {1: 7, 4: 8} 389.1455  363900 : 0.0 {1: 15} 376.33374  364200 : 1.3 {1: 15} 388.02203  364500 : 0.3 {3: 15} 388.38223  364800 : 2.3 {3: 15} 404.0277  365100 : 0.0 {4: 15} 388.05386  365400 : 1.0 {3: 15} 387.9308  365700 : 0.7 {3: 15} 388.03412  366000 : 0.3 {4: 15} 387.8267  |copy| 366300 : 1.0 {3: 15} 403.54892  366600 : 0.3 {3: 15} 391.28973  366900 : 0.3 {1: 15} 391.69263  367200 : 0.7 {3: 15} 397.6628  367500 : 1.7 {2: 15} 389.31696  367800 : 1.0 {2: 15} 387.40765  368100 : 0.7 {4: 15} 405.81985  368400 : 1.7 {1: 15} 375.925  368700 : 1.0 {1: 15} 376.5937  369000 : 1.0 {3: 15} 374.85788  |copy| 369300 : 1.7 {1: 15} 391.6796  369600 : 0.7 {2: 15} 387.37256  369900 : 0.7 {1: 15} 374.86618  370200 : 2.0 {4: 15} 391.0148  370500 : 1.0 {4: 15} 373.8908  370800 : 1.3 {4: 15} 402.38297  371100 : 0.7 {4: 15} 376.44135  371400 : 1.0 {2: 15} 401.71976  371700 : 0.0 {1: 15} 393.59158  372000 : 1.0 {1: 15} 389.39224  |copy| 372300 : 0.3 {3: 15} 392.5063  372600 : 1.7 {2: 15} 404.0402  372900 : 1.0 {4: 15} 403.40503  373200 : 0.3 {3: 15} 389.54193  373500 : 0.0 {2: 15} 388.81796  373800 : 0.7 {1: 15} 389.1589  374100 : 0.0 {4: 15} 392.46194  374400 : 2.0 {2: 15} 375.80338  374700 : 0.3 {4: 15} 385.75183  375000 : 0.7 {1: 15} 388.07053  |copy| 375300 : 1.3 {4: 15} 376.38388  375600 : 0.0 {3: 15} 396.31436  375900 : 0.3 {2: 15} 383.39124  376200 : 7.0 {4: 15} 392.41608  376500 : 1.0 {1: 15} 388.49277  376800 : 0.7 {1: 15} 374.48148  377100 : 1.0 {3: 15} 388.40842  377400 : 1.0 {3: 15} 386.19202  377700 : 0.3 {4: 15} 389.07104  378000 : 1.0 {2: 15} 389.03973  |copy| 378300 : 0.7 {4: 15} 374.44446  378600 : 0.3 {4: 15} 375.70554  378900 : 0.0 {2: 15} 390.03384  379200 : 0.7 {4: 15} 390.98038  379500 : 0.0 {3: 15} 397.17722  379800 : 1.3 {3: 15} 374.34344  380100 : 0.3 {2: 15} 387.40134  380400 : 1.0 {1: 15} 398.3089  380700 : 0.3 {3: 15} 374.24673  381000 : 1.0 {1: 15} 399.43277  |copy| 381300 : 1.0 {2: 15} 374.47403  381600 : 1.0 {4: 15} 375.9628  381900 : 0.7 {2: 15} 388.39215  382200 : 1.7 {2: 15} 374.65546  382500 : 1.7 {1: 15} 387.7694  382800 : 0.0 {4: 15} 392.76413  383100 : 1.3 {3: 15} 374.7115  383400 : 1.0 {1: 15} 374.20178  383700 : 0.0 {4: 15} 397.67462  384000 : 1.0 {3: 15} 396.10773  |copy| 384300 : 0.0 {4: 15} 403.9174  384600 : 2.0 {3: 15} 376.39224  384900 : 0.7 {2: 15} 387.35303  385200 : 0.7 {4: 15} 386.85327  385500 : 0.7 {2: 15} 374.22946  385800 : 0.3 {3: 15} 374.34363  386100 : 0.0 {4: 15} 391.17572  386400 : 0.7 {3: 15} 385.35034  386700 : 0.3 {3: 15} 397.32178  387000 : 1.3 {1: 15} 374.27078  |copy| 387300 : 1.0 {2: 15} 374.34344  387600 : 0.7 {3: 15} 374.80414  387900 : 1.0 {2: 15} 374.4763  388200 : 0.7 {3: 15} 388.59424  388500 : 0.3 {2: 15} 375.90427  388800 : 0.7 {2: 15} 396.7137  389100 : 0.7 {4: 15} 387.12012  389400 : 1.0 {4: 15} 388.22388  389700 : 0.3 {4: 15} 389.79022  390000 : 1.0 {2: 15} 390.85022  |copy| 390300 : 0.3 {2: 15} 396.59958  390600 : 0.0 {4: 15} 399.20932  390900 : 1.3 {2: 15} 389.6024  391200 : 1.3 {4: 15} 389.13202  391500 : 0.7 {2: 15} 384.59677  391800 : 3.0 {3: 15} 374.2966  392100 : 1.7 {4: 15} 397.75217  392400 : 1.0 {1: 15} 374.45645  392700 : 0.7 {2: 15} 375.90332  393000 : 1.0 {2: 15} 402.8107  |copy| 393300 : 1.3 {4: 15} 379.27936  393600 : 1.3 {3: 15} 399.62875  393900 : 0.7 {3: 15} 375.77933  394200 : 0.3 {4: 15} 390.57245  394500 : 1.3 {3: 15} 397.08594  394800 : 0.3 {3: 15} 388.2911  395100 : 0.7 {1: 15} 381.4023  395400 : 1.0 {1: 15} 374.7588  395700 : 0.7 {3: 15} 399.83047  396000 : 1.0 {3: 15} 403.02136  |copy| 396300 : 9.0 {4: 15} 389.9447  396600 : 0.3 {3: 15} 394.18073  396900 : 0.3 {4: 15} 402.11105  397200 : 1.0 {2: 15} 392.68057  397500 : 0.7 {4: 15} 385.80066  397800 : 1.0 {3: 15} 394.342  398100 : 0.3 {1: 15} 379.01028  398400 : 2.0 {3: 15} 390.82013  398700 : 0.7 {3: 15} 374.6714  399000 : 1.0 {1: 15} 374.84113  |copy| 399300 : 0.3 {2: 15} 399.02643  399600 : 0.0 {2: 15} 374.2462  399900 : 0.3 {3: 12, 2: 3} 375.30338  400200 : 0.7 {2: 15} 392.2976  400500 : 0.7 {1: 15} 388.3264  400800 : 0.0 {4: 15} 374.94257  401100 : 0.7 {1: 15} 374.01434  401400 : 1.3 {2: 15} 397.01035  401700 : 0.7 {3: 15} 377.14557  402000 : 0.3 {3: 15} 373.94864  |copy| 402300 : 0.0 {3: 15} 388.0768  402600 : 0.7 {3: 15} 397.35696  402900 : 1.3 {4: 15} 374.27075  403200 : 1.3 {1: 15} 373.7531  403500 : 0.0 {2: 15} 374.30112  403800 : 0.0 {2: 15} 374.20642  404100 : 0.7 {4: 15} 376.33115  404400 : 0.3 {2: 15} 376.54016  404700 : 1.0 {2: 15} 390.1203  405000 : 1.3 {3: 15} 374.0608  |copy| 405300 : 1.3 {2: 15} 399.0363  405600 : 0.3 {3: 15} 375.1877  405900 : 7.3 {3: 15} 393.28894  406200 : 1.3 {4: 15} 392.31  406500 : 1.0 {4: 15} 386.82367  406800 : 0.3 {4: 15} 375.90393  407100 : 1.0 {3: 15} 374.10147  407400 : 0.0 {1: 15} 393.03537  407700 : 1.3 {1: 15} 373.972  408000 : 0.7 {2: 15} 391.90622  |copy| 408300 : 1.3 {2: 15} 385.30994  408600 : 0.3 {1: 15} 391.52032  408900 : 0.3 {2: 15} 375.35117  409200 : 0.0 {1: 15} 376.12466  409500 : 2.0 {1: 15} 376.7287  409800 : 0.7 {2: 15} 388.13098  410100 : 1.0 {3: 15} 374.89166  410400 : 0.7 {3: 15} 396.90118  410700 : 0.3 {2: 15} 394.14807  411000 : 0.7 {3: 15} 395.3046  |copy| 411300 : 0.3 {3: 15} 376.40894  411600 : 0.0 {4: 15} 374.48065  411900 : 0.0 {2: 15} 374.69095  412200 : 0.7 {1: 15} 391.79245  412500 : 0.7 {3: 15} 374.4969  412800 : 0.3 {4: 15} 374.48322  413100 : 0.7 {2: 15} 374.29276  413400 : 0.0 {1: 15} 374.25592  413700 : 0.7 {4: 15} 385.64832  414000 : 7.3 {4: 15} 386.39902  |copy| 414300 : 0.7 {3: 15} 402.52414  414600 : 0.3 {4: 15} 374.24182  414900 : 0.7 {4: 15} 386.1963  415200 : 0.3 {4: 15} 374.46054  415500 : 0.3 {4: 15} 374.34027  415800 : 1.0 {2: 15} 394.12708  416100 : 0.3 {3: 15} 374.17038  416400 : 0.0 {2: 15} 401.6754  416700 : 1.7 {3: 15} 401.7529  417000 : 1.0 {2: 15} 374.26752  |copy| 417300 : 0.0 {1: 15} 396.23303  417600 : 0.7 {3: 15} 386.73352  417900 : 0.0 {1: 15} 388.84735  418200 : 1.3 {2: 15} 387.70438  418500 : 0.0 {1: 15} 374.34372  418800 : 1.7 {3: 15} 390.87732  419100 : 1.0 {1: 15} 396.27673  419400 : 0.3 {4: 15} 395.0313  419700 : 0.3 {1: 15} 375.4686  420000 : 0.3 {1: 15} 373.89032  |copy| 420300 : 1.0 {3: 15} 391.33075  420600 : 0.3 {2: 15} 374.4202  420900 : 0.7 {1: 15} 373.89386  421200 : 0.7 {2: 15} 373.82376  421500 : 1.7 {1: 15} 387.21127  421800 : 1.7 {4: 15} 380.46286  422100 : 1.3 {2: 15} 387.3235  422400 : 0.7 {3: 15} 398.46057  422700 : 0.3 {2: 15} 375.14325  423000 : 0.7 {1: 15} 391.26233  |copy| 423300 : 1.0 {4: 15} 387.60275  423600 : 0.0 {4: 15} 395.93573  423900 : 0.0 {3: 15} 374.25854  424200 : 0.0 {3: 15} 374.47046  424500 : 0.7 {3: 15} 388.46378  424800 : 0.7 {2: 15} 387.31656  425100 : 0.3 {3: 15} 375.60074  425400 : 0.3 {1: 15} 388.70792  425700 : 0.3 {1: 15} 388.6985  426000 : 0.3 {4: 15} 376.1264  |copy| 426300 : 3.3 {4: 15} 388.27008  426600 : 0.3 {4: 15} 387.3973  426900 : 4.3 {3: 15} 388.75082  427200 : 0.3 {4: 15} 387.42426  427500 : 1.0 {3: 15} 373.56113  427800 : 0.0 {1: 15} 389.7423  428100 : 1.0 {4: 15} 374.2184  428400 : 3.0 {3: 15} 388.7727  428700 : 0.0 {2: 15} 373.37518  429000 : 0.3 {4: 15} 381.04346  |copy| 429300 : 1.0 {3: 15} 393.23682  429600 : 0.7 {2: 15} 376.30408  429900 : 0.3 {1: 15} 392.24615  430200 : 0.7 {4: 15} 395.09027  430500 : 0.3 {4: 15} 373.44617  430800 : 1.0 {4: 15} 374.6795  431100 : 0.0 {1: 15} 387.95758  431400 : 1.0 {2: 15} 374.89853  431700 : 1.3 {2: 15} 373.75314  432000 : 0.7 {1: 15} 386.98477  |copy| 432300 : 0.3 {2: 15} 401.02295  432600 : 0.7 {3: 15} 374.01074  432900 : 1.0 {3: 15} 393.90668  433200 : 0.3 {3: 15} 374.47247  433500 : 1.0 {4: 15} 373.62915  433800 : 0.7 {3: 15} 375.8479  434100 : 0.3 {1: 15} 390.20917  434400 : 0.0 {4: 15} 393.45358  434700 : 0.7 {2: 15} 391.4221  435000 : 0.0 {3: 15} 389.97562  |copy| 435300 : 0.3 {1: 15} 395.8045  435600 : 0.7 {1: 15} 389.091  435900 : 0.7 {3: 15} 373.69443  436200 : 1.7 {4: 15} 403.49667  436500 : 1.3 {3: 15} 375.037  436800 : 0.0 {2: 15} 375.51712  437100 : 0.3 {1: 15} 373.77292  437400 : 0.0 {2: 15} 396.9489  437700 : 0.0 {1: 15} 388.0583  438000 : 0.3 {1: 15} 396.02856  |copy| 438300 : 7.0 {1: 15} 400.30896  438600 : 1.3 {1: 15} 393.37653  438900 : 1.0 {4: 15} 391.22504  439200 : 1.0 {2: 15} 374.16077  439500 : 0.7 {4: 15} 390.60764  439800 : 1.0 {1: 15} 400.75272  440100 : 0.0 {2: 15} 400.45853  440400 : 13.7 {2: 15} 387.60446  440700 : 1.0 {3: 15} 388.39075  441000 : 0.7 {3: 15} 395.11865  |copy| 441300 : 0.7 {3: 15} 388.79022  441600 : 0.3 {3: 15} 375.8115  441900 : 1.0 {3: 15} 384.74377  442200 : 0.0 {1: 15} 388.0242  442500 : 0.7 {4: 15} 373.5882  442800 : 0.0 {3: 15} 384.28732  443100 : 0.7 {4: 15} 396.92615  443400 : 0.3 {2: 15} 384.0356  443700 : 0.3 {1: 15} 393.14175  444000 : 0.3 {3: 15} 373.90207  |copy| 444300 : 0.7 {3: 15} 373.7017  444600 : 0.3 {4: 15} 397.06152  444900 : 0.3 {4: 15} 390.46805  445200 : 1.0 {4: 15} 401.0083  445500 : 1.3 {1: 15} 384.66385  445800 : 0.7 {1: 15} 374.17258  446100 : 1.7 {3: 15} 395.49408  446400 : 1.7 {1: 15} 386.9966  446700 : 0.0 {1: 15} 373.61462  447000 : 0.3 {2: 15} 388.6004  |copy| 447300 : 0.0 {4: 15} 394.26245  447600 : 0.0 {4: 15} 374.6824  447900 : 0.7 {3: 15} 397.70862  448200 : 2.0 {4: 15} 403.77722  448500 : 0.7 {4: 15} 374.37585  448800 : 0.7 {4: 15} 403.90665  449100 : 0.0 {4: 15} 374.36914  449400 : 0.7 {3: 15} 374.4729  449700 : 0.7 {1: 15} 395.372  450000 : 0.3 {4: 15} 386.49933  |copy| 450300 : 0.7 {4: 15} 396.167  450600 : 0.0 {3: 15} 394.79132  450900 : 7.0 {2: 15} 391.95102  451200 : 0.3 {3: 15} 393.99182  451500 : 0.7 {4: 15} 386.08582  451800 : 1.0 {4: 2, 3: 13} 387.14963  452100 : 0.3 {4: 15} 387.58777  452400 : 1.3 {4: 15} 387.53177  452700 : 1.3 {2: 15} 388.95508  453000 : 0.0 {3: 15} 373.58182  |copy| 453300 : 1.3 {4: 15} 374.3583  453600 : 0.3 {4: 15} 386.41275  453900 : 1.0 {4: 15} 375.91556  454200 : 7.3 {2: 15} 400.7091  454500 : 1.0 {2: 15} 395.34283  454800 : 1.7 {3: 15} 390.47964  455100 : 0.0 {4: 15} 395.0153  455400 : 1.3 {1: 15} 388.46854  455700 : 0.3 {3: 15} 373.78107  456000 : 1.7 {2: 15} 386.05505  |copy| 456300 : 1.3 {2: 15} 375.2354  456600 : 1.0 {1: 15} 374.5689  456900 : 0.3 {4: 15} 391.96246  457200 : 1.0 {4: 15} 390.00577  457500 : 1.7 {4: 15} 374.2862  457800 : 0.0 {2: 15} 387.84348  458100 : 0.3 {1: 15} 374.34412  458400 : 0.3 {3: 15} 389.0457  458700 : 0.3 {3: 15} 392.62903  459000 : 0.0 {2: 15} 394.9745  |copy| 459300 : 0.3 {4: 15} 388.12277  459600 : 7.0 {2: 15} 374.28558  459900 : 0.3 {3: 15} 394.55035  460200 : 1.3 {2: 15} 392.3853  460500 : 0.0 {1: 15} 396.95953  460800 : 1.0 {2: 15} 373.41556  461100 : 0.7 {4: 15} 373.3982  461400 : 2.0 {4: 15} 388.62634  461700 : 0.3 {3: 15} 385.92838  462000 : 1.0 {2: 15} 375.77457  |copy| 462300 : 0.7 {3: 15} 395.42166  462600 : 1.0 {4: 15} 374.1063  462900 : 0.7 {3: 15} 374.2627  463200 : 1.0 {1: 15} 385.28424  463500 : 0.7 {1: 15} 386.91513  463800 : 0.3 {1: 15} 381.55325  464100 : 0.7 {2: 15} 395.3997  464400 : 1.0 {3: 15} 375.2896  464700 : 0.3 {2: 15} 375.3438  465000 : 0.7 {2: 15} 374.35184  |copy| 465300 : 0.3 {2: 15} 388.14847  465600 : 0.7 {4: 15} 394.99225  465900 : 1.3 {1: 15} 396.04605  466200 : 0.7 {4: 15} 375.38818  466500 : 0.0 {4: 15} 373.773  466800 : 1.0 {1: 15} 400.21188  467100 : 1.7 {2: 15} 385.0241  467400 : 0.7 {2: 15} 397.6162  467700 : 1.3 {1: 15} 388.44687  468000 : 0.7 {1: 15} 394.55215  |copy| 468300 : 0.7 {4: 15} 386.82626  468600 : 1.0 {3: 15} 385.11017  468900 : 0.3 {1: 15} 384.00214  469200 : 0.7 {4: 15} 373.48755  469500 : 1.7 {1: 15} 393.3155  469800 : 1.3 {1: 15} 396.40173  470100 : 0.3 {4: 15} 400.9891  470400 : 0.7 {2: 15} 375.4173  470700 : 1.0 {3: 15} 373.94678  471000 : 1.0 {2: 15} 389.1402  |copy| 471300 : 0.0 {3: 15} 373.38223  471600 : 1.3 {1: 15} 374.22726  471900 : 0.7 {2: 15} 373.61255  472200 : 2.3 {1: 15} 385.61493  472500 : 0.3 {2: 15} 374.33856  472800 : 0.7 {1: 15} 392.35553  473100 : 2.0 {4: 15} 375.78064  473400 : 0.3 {2: 4, 4: 11} 387.78564  473700 : 1.0 {3: 15} 398.3199  474000 : 0.3 {2: 15} 373.43445  |copy| 474300 : 1.0 {1: 15} 375.15018  474600 : 0.7 {4: 15} 383.45566  474900 : 0.0 {3: 15} 374.61374  475200 : 0.0 {3: 15} 389.58713  475500 : 0.7 {2: 15} 384.91132  475800 : 0.0 {2: 15} 387.01242  476100 : 0.7 {1: 15} 375.32745  476400 : 0.0 {1: 15} 386.662  476700 : 0.7 {1: 15} 385.74472  477000 : 1.3 {3: 15} 387.08054  |copy| 477300 : 3.0 {3: 15} 375.19696  477600 : 0.0 {1: 15} 389.11496  477900 : 1.0 {3: 15} 393.54926  478200 : 2.7 {2: 15} 375.2338  478500 : 0.3 {2: 15} 404.37015  478800 : 2.3 {4: 15} 405.28748  479100 : 14.3 {3: 15} 390.43774  479400 : 8.0 {1: 15} 388.69495  479700 : 1.3 {2: 15} 397.2139  480000 : 0.7 {3: 15} 391.65048  |copy| 480300 : 1.7 {4: 15} 401.2813  480600 : 0.3 {4: 15} 382.35825  480900 : 0.7 {3: 15} 398.63898  481200 : 1.0 {1: 15} 386.58185  481500 : 1.3 {3: 15} 373.55667  481800 : 0.3 {3: 15} 389.4696  482100 : 0.0 {4: 15} 395.38553  482400 : 0.7 {3: 15} 373.4656  482700 : 3.3 {4: 15} 374.8564  483000 : 0.7 {3: 15} 391.9625  |copy| 483300 : 0.7 {1: 15} 386.1455  483600 : 1.7 {2: 15} 377.81348  483900 : 0.3 {2: 15} 375.55304  484200 : 1.0 {1: 15} 373.88925  484500 : 1.0 {4: 15} 392.61362  484800 : 0.3 {4: 15} 375.7892  485100 : 0.0 {3: 15} 376.02716  485400 : 0.3 {2: 15} 389.00607  485700 : 0.7 {2: 15} 394.85648  486000 : 1.0 {2: 15} 393.10147  |copy| 486300 : 1.3 {4: 15} 373.46265  486600 : 0.7 {4: 15} 393.58743  486900 : 1.7 {4: 15} 375.36746  487200 : 0.7 {4: 15} 386.7297  487500 : 1.3 {4: 15} 387.5017  487800 : 0.0 {2: 15} 375.6982  488100 : 0.3 {4: 15} 395.9805  488400 : 0.7 {2: 15} 386.69315  488700 : 0.7 {2: 15} 373.599  489000 : 0.3 {4: 15} 394.63885  |copy| 489300 : 0.3 {1: 15} 374.09244  489600 : 1.0 {2: 15} 373.6609  489900 : 0.7 {3: 15} 373.44568  490200 : 0.7 {1: 15} 381.40253  490500 : 1.3 {1: 15} 385.21588  490800 : 0.7 {2: 15} 385.47266  491100 : 1.3 {3: 15} 392.06628  491400 : 0.3 {3: 15} 386.4414  491700 : 1.0 {1: 15} 384.78882  492000 : 0.3 {1: 15} 388.25095  |copy| 492300 : 0.3 {4: 15} 373.0265  492600 : 1.0 {3: 10, 2: 5} 389.009  492900 : 0.3 {4: 15} 373.4455  493200 : 1.0 {4: 15} 373.5017  493500 : 0.3 {1: 15} 376.92496  493800 : 0.0 {4: 15} 373.56  494100 : 0.7 {3: 15} 398.95047  494400 : 1.0 {4: 15} 385.89395  494700 : 0.0 {1: 15} 400.75833  495000 : 0.7 {2: 15} 377.5016  |copy| 495300 : 1.0 {4: 15} 393.83102  495600 : 2.3 {4: 15} 393.99786  495900 : 0.0 {1: 15} 376.54486  496200 : 1.0 {2: 15} 389.02426  496500 : 1.0 {2: 15} 374.9222  496800 : 0.3 {2: 15} 380.1742  497100 : 0.0 {4: 15} 389.4254  497400 : 1.3 {2: 15} 383.68488  497700 : 0.7 {1: 15} 374.93463  498000 : 0.3 {1: 15} 385.3802  |copy| 498300 : 0.7 {2: 15} 373.32465  498600 : 1.3 {4: 15} 373.604  498900 : 1.3 {4: 15} 373.6977  499200 : 1.0 {2: 15} 391.60376  499500 : 0.3 {1: 15} 373.27692  499800 : 1.7 {4: 15} 386.5939  "
          ]
        }
      ]
    },
    {
      "cell_type": "code",
      "source": [
        "# store the model\n",
        "\n",
        "saver.save(sess, '/content/MyDrive/MyDrive/images/v1/pacman.ckpt') #./datasets/Pacman/pacman.ckpt"
      ],
      "metadata": {
        "colab": {
          "base_uri": "https://localhost:8080/",
          "height": 205
        },
        "id": "jvHFwLkzLq_x",
        "outputId": "51756cd6-b9e2-41b5-e8a6-f82105c14762"
      },
      "execution_count": null,
      "outputs": [
        {
          "output_type": "error",
          "ename": "NameError",
          "evalue": "ignored",
          "traceback": [
            "\u001b[0;31m---------------------------------------------------------------------------\u001b[0m",
            "\u001b[0;31mNameError\u001b[0m                                 Traceback (most recent call last)",
            "\u001b[0;32m<ipython-input-12-4551c66469f9>\u001b[0m in \u001b[0;36m<module>\u001b[0;34m\u001b[0m\n\u001b[1;32m      1\u001b[0m \u001b[0;31m# store the model\u001b[0m\u001b[0;34m\u001b[0m\u001b[0;34m\u001b[0m\u001b[0;34m\u001b[0m\u001b[0m\n\u001b[1;32m      2\u001b[0m \u001b[0;34m\u001b[0m\u001b[0m\n\u001b[0;32m----> 3\u001b[0;31m \u001b[0msaver\u001b[0m\u001b[0;34m.\u001b[0m\u001b[0msave\u001b[0m\u001b[0;34m(\u001b[0m\u001b[0msess\u001b[0m\u001b[0;34m,\u001b[0m \u001b[0;34m'/content/MyDrive/MyDrive/images/v1/pacman.ckpt'\u001b[0m\u001b[0;34m)\u001b[0m \u001b[0;31m#./datasets/Pacman/pacman.ckpt\u001b[0m\u001b[0;34m\u001b[0m\u001b[0;34m\u001b[0m\u001b[0m\n\u001b[0m",
            "\u001b[0;31mNameError\u001b[0m: name 'sess' is not defined"
          ]
        }
      ]
    },
    {
      "cell_type": "code",
      "source": [
        "# playing using the online q-net\n",
        "\n",
        "import time\n",
        "\n",
        "#sess = tf.InteractiveSession()\n",
        "#saver.restore(sess, './datasets/Pacman/pacman.ckpt')\n",
        "\n",
        "n_max_steps = 5000\n",
        "frames = [] # will store the game frames, can be converted to video\n",
        "game_reward = 0\n",
        "\n",
        "# start a  new game\n",
        "obs = env.reset()\n",
        "\n",
        "# skip the start of each life as in pacman its just waiting\n",
        "for skip in range(skip_start): \n",
        "    obs, reward, done, info = env.step(0)\n",
        "\n",
        "lives_left = 3\n",
        "\n",
        "for stp in range(n_max_steps):\n",
        "    state = preprocess(obs)    \n",
        "    # determine the action using online q_net\n",
        "    q_vals_eval = q_vals_online.eval(feed_dict={X_state: state.reshape(1, input_height, input_width, n_channels)})[0]\n",
        "    action = np.argmax(q_vals_eval)\n",
        "    # execute the action\n",
        "    obs, reward, done, info = env.step(1 + action)\n",
        "    \n",
        "    # skip the start of each life as in pacman its just waiting\n",
        "    if lives_left != info['lives']:\n",
        "        lives_left = info['lives']\n",
        "        for skip in range(35): \n",
        "            obs, reward, done, info = env.step(0)\n",
        "    \n",
        "    print(1 + action, end=' ')\n",
        "    frames.append(obs) # if you want to store the game as a vid\n",
        "    game_reward += int(reward)\n",
        "    #env.render()\n",
        "    time.sleep(0.05) # to slowdown the game\n",
        "    # check if game ended\n",
        "    if done:\n",
        "        break\n",
        "\n",
        "print('game_score :', game_reward)\n",
        "# 0:no change, 1:t, 2:r, 3:l, 4:d "
      ],
      "metadata": {
        "colab": {
          "base_uri": "https://localhost:8080/"
        },
        "id": "oxeJQOFdLupu",
        "outputId": "2bdc85c6-86d2-4b64-a6e6-c01f2462b6ec"
      },
      "execution_count": null,
      "outputs": [
        {
          "output_type": "stream",
          "name": "stdout",
          "text": [
            "2 2 4 4 3 4 3 4 4 4 2 1 2 2 4 1 3 4 4 4 3 3 4 2 2 1 4 2 2 2 2 3 4 3 4 1 4 1 1 1 3 3 3 3 3 3 2 3 3 3 4 4 4 1 2 4 2 4 4 3 4 3 3 1 4 1 4 3 3 3 3 3 3 3 3 1 1 1 3 3 4 4 4 2 3 4 1 1 1 4 4 1 1 3 4 4 1 1 3 4 4 3 1 1 3 4 3 4 1 1 3 1 2 4 3 4 4 1 3 3 3 3 3 3 3 3 3 3 3 3 3 3 3 4 1 1 1 3 3 3 3 3 3 3 3 3 3 3 3 3 3 3 3 1 1 1 3 2 3 2 4 4 3 4 4 2 4 4 3 4 4 3 3 3 3 3 3 1 1 4 3 3 4 4 3 1 4 4 4 4 1 1 1 3 3 3 3 3 3 3 3 3 3 3 3 3 3 3 2 3 3 3 2 3 3 2 3 3 1 3 3 3 3 3 3 3 3 1 1 1 2 1 1 3 3 4 1 1 1 3 4 4 4 4 4 4 4 3 2 4 4 4 3 3 3 3 4 3 3 3 3 3 4 3 3 3 3 3 3 3 3 3 3 3 2 4 3 3 1 3 4 3 3 3 3 3 2 3 3 3 3 3 4 3 3 3 4 4 3 3 4 4 4 4 4 4 3 3 3 4 3 3 3 3 3 3 3 3 3 3 3 3 4 4 4 4 3 3 4 4 3 3 4 3 3 3 3 3 3 4 4 3 3 3 4 4 4 3 3 3 4 4 4 4 4 4 4 4 3 3 3 3 3 3 3 4 1 3 3 3 3 3 3 4 4 4 1 3 4 4 4 3 3 3 1 1 3 2 3 4 4 2 3 3 1 4 3 3 3 3 3 3 3 3 3 4 3 3 4 3 3 3 4 3 4 3 3 3 3 3 1 3 3 3 3 3 3 1 1 3 1 1 3 3 3 3 1 3 1 3 3 4 3 3 3 3 3 3 3 3 3 3 3 3 3 3 3 3 3 3 3 1 3 3 3 3 3 3 3 1 3 3 3 3 3 4 1 3 4 4 4 4 4 4 3 1 1 3 3 3 3 4 3 4 3 1 3 3 3 4 4 4 4 3 3 1 1 3 3 3 3 3 3 3 3 3 3 3 3 3 3 3 3 3 3 3 3 4 4 4 4 4 1 4 3 4 4 1 4 3 3 3 3 4 4 3 3 3 3 3 3 1 3 3 3 3 3 3 1 1 4 4 1 1 3 3 3 3 3 3 3 3 3 3 3 3 3 3 3 3 3 3 3 3 3 3 3 3 3 4 3 3 3 3 3 3 3 1 3 4 4 4 3 3 4 4 3 3 3 3 3 3 3 3 3 3 3 3 3 3 3 3 4 3 3 3 3 3 4 3 4 4 4 4 3 4 3 3 4 3 2 3 4 4 1 3 3 3 3 3 3 3 3 3 3 3 3 3 3 3 3 3 3 3 3 3 3 3 3 3 game_score : 470\n"
          ]
        }
      ]
    },
    {
      "cell_type": "code",
      "source": [
        "import matplotlib.pyplot as plt\n",
        "plt.plot(k_steps, k_reward)\n",
        "plt.show()"
      ],
      "metadata": {
        "colab": {
          "base_uri": "https://localhost:8080/"
        },
        "id": "tzEQlNazT5sf",
        "outputId": "19f79cbf-3957-417c-ddca-505147453d32"
      },
      "execution_count": null,
      "outputs": [
        {
          "output_type": "display_data",
          "data": {
            "text/plain": [
              "<Figure size 432x288 with 1 Axes>"
            ],
            "image/png": "[encoded data removed]"
          },
          "metadata": {
            "needs_background": "light"
          }
        }
      ]
    },
    {
      "cell_type": "code",
      "source": [
        "# close the rendering window\n",
        "\n",
        "#env.render(close=True)\n",
        "env.close()"
      ],
      "metadata": {
        "id": "UU15GKVjL6qn"
      },
      "execution_count": null,
      "outputs": []
    },
    {
      "cell_type": "code",
      "source": [
        "# restore a saved model\n",
        "sess = tf.compat.v1.InteractiveSession()\n",
        "saver.restore(sess, '/content/MyDrive/MyDrive/images/v1/pacman.ckpt')#./datasets/Pacman/dec5/pacman.ckpt"
      ],
      "metadata": {
        "id": "1bucnsSEL-ki"
      },
      "execution_count": null,
      "outputs": []
    },
    {
      "cell_type": "code",
      "source": [
        "# saving the previous game as a video\n",
        "\n",
        "def update_scene(num, frames, patch):\n",
        "    patch.set_data(frames[num])\n",
        "    return patch,\n",
        "\n",
        "def plot_animation(frames, repeat=False, interval=40):\n",
        "    fig = plt.figure()\n",
        "    patch = plt.imshow(frames[0])\n",
        "    plt.axis('off')\n",
        "    return anime.FuncAnimation(fig, update_scene, fargs=(frames, patch), frames=len(frames), repeat=repeat, interval=interval)\n",
        "\n",
        "plot_animation(frames).save('/content/MyDrive/MyDrive/images/v1/PacMan_v1.mp4', fps=30, extra_args=['-vcodec', 'libx264'])"
      ],
      "metadata": {
        "colab": {
          "base_uri": "https://localhost:8080/",
          "height": 248
        },
        "id": "tt8LQXPvMD3I",
        "outputId": "17bf9150-9e90-4a69-9e54-0923c24b0a29"
      },
      "execution_count": null,
      "outputs": [
        {
          "output_type": "display_data",
          "data": {
            "text/plain": [
              "<Figure size 432x288 with 1 Axes>"
            ],
            "image/png": "[encoded data removed]"
          },
          "metadata": {
            "needs_background": "light"
          }
        }
      ]
    },
    {
      "cell_type": "code",
      "source": [
        "# NOTES:\n",
        "\n",
        "# keep only 4 actions: l, r, u, d\n",
        "# if timer=8 is not used it'll never see states that are far spread out\n",
        "\n",
        "# chosing a random action after every 8 steps (and using it for 8 steps) gives a mean reward of 470.5\n",
        "# mean rewards of various timer vals\n",
        "# {timer: mean rwd} {3: 339.0833333333333, 4: 385.25, 5: 418.8333333333333, 6: 425.8333333333333, 7: 456.6666666666667, 8: 470.5, 9: 446.6666666666667}\n",
        "\n",
        "#cnn, channels = 3, L1 LOSS, learning_rate = 0.001 n_steps_train = 15 n_steps_copy = 3000 discount_rate = 0.99999 batch_size = 5 \n",
        "#skip_start = 85 training_start = 60  timer = 8, GradDesc"
      ],
      "metadata": {
        "id": "_QEyEVGeMIU_"
      },
      "execution_count": null,
      "outputs": []
    }
  ]
}