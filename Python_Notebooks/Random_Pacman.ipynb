{
  "nbformat": 4,
  "nbformat_minor": 0,
  "metadata": {
    "colab": {
      "provenance": []
    },
    "kernelspec": {
      "name": "python3",
      "display_name": "Python 3"
    },
    "language_info": {
      "name": "python"
    }
  },
  "cells": [
    {
      "cell_type": "code",
      "execution_count": null,
      "metadata": {
        "colab": {
          "base_uri": "https://localhost:8080/"
        },
        "id": "lerKEDEnaUnH",
        "outputId": "a7d479b7-9575-44b0-edf5-ac19c578ca50"
      },
      "outputs": [
        {
          "output_type": "stream",
          "name": "stdout",
          "text": [
            "Mounted at /content/MyDrive/\n",
            "/content/MyDrive\n"
          ]
        }
      ],
      "source": [
        "# References:\n",
        "# [1] https://towardsdatascience.com/different-ways-to-connect-google-drive-to-a-google-colab-notebook-pt-1-de03433d2f7a\n",
        "# [2] https://stackoverflow.com/questions/54351852/accessing-shared-with-me-with-colab\n",
        "# [3] https://stackoverflow.com/questions/53581278/test-if-notebook-is-running-on-google-colab\n",
        "\n",
        "import os\n",
        "\n",
        "try:\n",
        "    from google.colab import drive\n",
        "    from google.colab import files\n",
        "    IN_COLAB = True\n",
        "except:\n",
        "    IN_COLAB = False\n",
        "\n",
        "if IN_COLAB:\n",
        "\n",
        "    # mount google drive \n",
        "    drive.mount('/content/MyDrive/', force_remount=True)\n",
        "\n",
        "    #change directory\n",
        "    try:\n",
        "        os.chdir('/content/MyDrive')\n",
        "\n",
        "    except:\n",
        "        os.chdir('/content/MyDrive')\n",
        "\n",
        "wdir = os.getcwd()\n",
        "\n",
        "print(wdir)"
      ]
    },
    {
      "cell_type": "code",
      "source": [
        "# root directory\n",
        "wdir = os.getcwd()\n",
        "\n",
        "wdir"
      ],
      "metadata": {
        "colab": {
          "base_uri": "https://localhost:8080/",
          "height": 35
        },
        "id": "-UwyzVs4bg4T",
        "outputId": "6ab9fda8-9d97-4b15-c4f0-547d4da43599"
      },
      "execution_count": null,
      "outputs": [
        {
          "output_type": "execute_result",
          "data": {
            "text/plain": [
              "'/content/MyDrive'"
            ],
            "application/vnd.google.colaboratory.intrinsic+json": {
              "type": "string"
            }
          },
          "metadata": {},
          "execution_count": 4
        }
      ]
    },
    {
      "cell_type": "code",
      "source": [
        "os.chdir('/content/MyDrive/MyDrive')"
      ],
      "metadata": {
        "id": "qQJwW4Itbjen"
      },
      "execution_count": null,
      "outputs": []
    },
    {
      "cell_type": "code",
      "source": [
        "# To support both python 2 and python 3\n",
        "from __future__ import division, print_function, unicode_literals\n",
        "\n",
        "# Common imports\n",
        "import numpy as np\n",
        "import os\n",
        "import sys\n",
        "import tensorflow as tf\n",
        "\n",
        "# to make this notebook's output stable across runs\n",
        "def reset_graph(seed=42):\n",
        "    tf.reset_default_graph()\n",
        "    tf.set_random_seed(seed)\n",
        "    np.random.seed(seed)\n",
        "\n",
        "# To plot pretty figures and animations\n",
        "%matplotlib nbagg\n",
        "import matplotlib\n",
        "import matplotlib.animation as animation\n",
        "import matplotlib.pyplot as plt\n",
        "plt.rcParams['axes.labelsize'] = 14\n",
        "plt.rcParams['xtick.labelsize'] = 12\n",
        "plt.rcParams['ytick.labelsize'] = 12\n",
        "\n",
        "# Where to save the figures\n",
        "PROJECT_ROOT_DIR = \"/content/MyDrive/MyDrive\"\n",
        "CHAPTER_ID = \"v1\"\n",
        "\n",
        "def save_fig(fig_id, tight_layout=True):\n",
        "    path = os.path.join(PROJECT_ROOT_DIR, \"images\", CHAPTER_ID, fig_id + \".png\")\n",
        "    print(\"Saving figure\", fig_id)\n",
        "    if tight_layout:\n",
        "        plt.tight_layout()\n",
        "    plt.savefig(path, format='png', dpi=300)"
      ],
      "metadata": {
        "id": "uZaBYFIWbmhM"
      },
      "execution_count": null,
      "outputs": []
    },
    {
      "cell_type": "code",
      "source": [
        "import gym \n",
        "from gym import Env\n",
        "from gym.spaces import Discrete, Box, Dict, Tuple, MultiBinary, MultiDiscrete \n",
        "import numpy as np\n",
        "import random\n",
        "import os\n",
        "!pip install pygame==2.1.0\n",
        "!pip install stable_baselines3\n",
        "import pygame\n",
        "from stable_baselines3 import PPO\n",
        "from stable_baselines3.common.vec_env import VecFrameStack\n",
        "from stable_baselines3.common.evaluation import evaluate_policy\n",
        "\n",
        "import gym\n",
        "from stable_baselines3.common.callbacks import StopTrainingOnNoModelImprovement, EvalCallback\n",
        "from gym.wrappers import FlattenObservation\n",
        "from gym.wrappers import TimeLimit\n",
        "import stable_baselines3\n",
        "from stable_baselines3 import PPO\n",
        "from stable_baselines3 import DQN\n",
        "from stable_baselines3.common.monitor import Monitor\n",
        "from stable_baselines3.common.evaluation import evaluate_policy\n",
        "from stable_baselines3.common.vec_env import DummyVecEnv\n",
        "from stable_baselines3.common.env_checker import check_env\n",
        "from stable_baselines3.common.evaluation import evaluate_policy"
      ],
      "metadata": {
        "colab": {
          "base_uri": "https://localhost:8080/"
        },
        "id": "YIsauU2Pbo1m",
        "outputId": "5169c8b3-d36d-4ae4-c24a-7b0ddbc4a679"
      },
      "execution_count": null,
      "outputs": [
        {
          "output_type": "stream",
          "name": "stdout",
          "text": [
            "Looking in indexes: https://pypi.org/simple, https://us-python.pkg.dev/colab-wheels/public/simple/\n",
            "Requirement already satisfied: pygame==2.1.0 in /usr/local/lib/python3.8/dist-packages (2.1.0)\n",
            "Looking in indexes: https://pypi.org/simple, https://us-python.pkg.dev/colab-wheels/public/simple/\n",
            "Requirement already satisfied: stable_baselines3 in /usr/local/lib/python3.8/dist-packages (1.6.2)\n",
            "Requirement already satisfied: numpy in /usr/local/lib/python3.8/dist-packages (from stable_baselines3) (1.21.6)\n",
            "Requirement already satisfied: cloudpickle in /usr/local/lib/python3.8/dist-packages (from stable_baselines3) (1.5.0)\n",
            "Requirement already satisfied: gym==0.21 in /usr/local/lib/python3.8/dist-packages (from stable_baselines3) (0.21.0)\n",
            "Requirement already satisfied: pandas in /usr/local/lib/python3.8/dist-packages (from stable_baselines3) (1.3.5)\n",
            "Requirement already satisfied: importlib-metadata~=4.13 in /usr/local/lib/python3.8/dist-packages (from stable_baselines3) (4.13.0)\n",
            "Requirement already satisfied: matplotlib in /usr/local/lib/python3.8/dist-packages (from stable_baselines3) (3.2.2)\n",
            "Requirement already satisfied: torch>=1.11 in /usr/local/lib/python3.8/dist-packages (from stable_baselines3) (1.13.0+cu116)\n",
            "Requirement already satisfied: zipp>=0.5 in /usr/local/lib/python3.8/dist-packages (from importlib-metadata~=4.13->stable_baselines3) (3.11.0)\n",
            "Requirement already satisfied: typing-extensions in /usr/local/lib/python3.8/dist-packages (from torch>=1.11->stable_baselines3) (4.4.0)\n",
            "Requirement already satisfied: kiwisolver>=1.0.1 in /usr/local/lib/python3.8/dist-packages (from matplotlib->stable_baselines3) (1.4.4)\n",
            "Requirement already satisfied: pyparsing!=2.0.4,!=2.1.2,!=2.1.6,>=2.0.1 in /usr/local/lib/python3.8/dist-packages (from matplotlib->stable_baselines3) (3.0.9)\n",
            "Requirement already satisfied: python-dateutil>=2.1 in /usr/local/lib/python3.8/dist-packages (from matplotlib->stable_baselines3) (2.8.2)\n",
            "Requirement already satisfied: cycler>=0.10 in /usr/local/lib/python3.8/dist-packages (from matplotlib->stable_baselines3) (0.11.0)\n",
            "Requirement already satisfied: six>=1.5 in /usr/local/lib/python3.8/dist-packages (from python-dateutil>=2.1->matplotlib->stable_baselines3) (1.15.0)\n",
            "Requirement already satisfied: pytz>=2017.3 in /usr/local/lib/python3.8/dist-packages (from pandas->stable_baselines3) (2022.6)\n",
            "pygame 2.1.0 (SDL 2.0.16, Python 3.8.16)\n",
            "Hello from the pygame community. https://www.pygame.org/contribute.html\n"
          ]
        }
      ]
    },
    {
      "cell_type": "code",
      "source": [
        "import cv2\n",
        "from google.colab.patches import cv2_imshow\n",
        "from google.colab import output\n",
        "import time \n",
        "import os, sys"
      ],
      "metadata": {
        "id": "fFkTPzpEbqbZ"
      },
      "execution_count": null,
      "outputs": []
    },
    {
      "cell_type": "code",
      "source": [
        "import gym"
      ],
      "metadata": {
        "id": "dB1XNvFXbr6b"
      },
      "execution_count": null,
      "outputs": []
    },
    {
      "cell_type": "code",
      "source": [
        "! pip install gym[atari,accept-rom-license]==0.21.0"
      ],
      "metadata": {
        "colab": {
          "base_uri": "https://localhost:8080/"
        },
        "id": "kB9wPegWbsVn",
        "outputId": "31583d0a-e0d4-4f16-94b7-8e4ffad3532f"
      },
      "execution_count": null,
      "outputs": [
        {
          "output_type": "stream",
          "name": "stdout",
          "text": [
            "Looking in indexes: https://pypi.org/simple, https://us-python.pkg.dev/colab-wheels/public/simple/\n",
            "Requirement already satisfied: gym[accept-rom-license,atari]==0.21.0 in /usr/local/lib/python3.8/dist-packages (0.21.0)\n",
            "Requirement already satisfied: cloudpickle>=1.2.0 in /usr/local/lib/python3.8/dist-packages (from gym[accept-rom-license,atari]==0.21.0) (1.5.0)\n",
            "Requirement already satisfied: numpy>=1.18.0 in /usr/local/lib/python3.8/dist-packages (from gym[accept-rom-license,atari]==0.21.0) (1.21.6)\n",
            "Requirement already satisfied: ale-py~=0.7.1 in /usr/local/lib/python3.8/dist-packages (from gym[accept-rom-license,atari]==0.21.0) (0.7.5)\n",
            "Requirement already satisfied: autorom[accept-rom-license]~=0.4.2 in /usr/local/lib/python3.8/dist-packages (from gym[accept-rom-license,atari]==0.21.0) (0.4.2)\n",
            "Requirement already satisfied: importlib-resources in /usr/local/lib/python3.8/dist-packages (from ale-py~=0.7.1->gym[accept-rom-license,atari]==0.21.0) (5.10.0)\n",
            "Requirement already satisfied: importlib-metadata>=4.10.0 in /usr/local/lib/python3.8/dist-packages (from ale-py~=0.7.1->gym[accept-rom-license,atari]==0.21.0) (4.13.0)\n",
            "Requirement already satisfied: requests in /usr/local/lib/python3.8/dist-packages (from autorom[accept-rom-license]~=0.4.2->gym[accept-rom-license,atari]==0.21.0) (2.23.0)\n",
            "Requirement already satisfied: tqdm in /usr/local/lib/python3.8/dist-packages (from autorom[accept-rom-license]~=0.4.2->gym[accept-rom-license,atari]==0.21.0) (4.64.1)\n",
            "Requirement already satisfied: click in /usr/local/lib/python3.8/dist-packages (from autorom[accept-rom-license]~=0.4.2->gym[accept-rom-license,atari]==0.21.0) (7.1.2)\n",
            "Requirement already satisfied: AutoROM.accept-rom-license in /usr/local/lib/python3.8/dist-packages (from autorom[accept-rom-license]~=0.4.2->gym[accept-rom-license,atari]==0.21.0) (0.4.2)\n",
            "Requirement already satisfied: zipp>=0.5 in /usr/local/lib/python3.8/dist-packages (from importlib-metadata>=4.10.0->ale-py~=0.7.1->gym[accept-rom-license,atari]==0.21.0) (3.11.0)\n",
            "Requirement already satisfied: certifi>=2017.4.17 in /usr/local/lib/python3.8/dist-packages (from requests->autorom[accept-rom-license]~=0.4.2->gym[accept-rom-license,atari]==0.21.0) (2022.9.24)\n",
            "Requirement already satisfied: idna<3,>=2.5 in /usr/local/lib/python3.8/dist-packages (from requests->autorom[accept-rom-license]~=0.4.2->gym[accept-rom-license,atari]==0.21.0) (2.10)\n",
            "Requirement already satisfied: chardet<4,>=3.0.2 in /usr/local/lib/python3.8/dist-packages (from requests->autorom[accept-rom-license]~=0.4.2->gym[accept-rom-license,atari]==0.21.0) (3.0.4)\n",
            "Requirement already satisfied: urllib3!=1.25.0,!=1.25.1,<1.26,>=1.21.1 in /usr/local/lib/python3.8/dist-packages (from requests->autorom[accept-rom-license]~=0.4.2->gym[accept-rom-license,atari]==0.21.0) (1.24.3)\n"
          ]
        }
      ]
    },
    {
      "cell_type": "code",
      "source": [
        "env = gym.make(\"MsPacman-v0\")#,render_mode='human')"
      ],
      "metadata": {
        "id": "yOiq8QbIbtoC"
      },
      "execution_count": null,
      "outputs": []
    },
    {
      "cell_type": "code",
      "source": [
        "# before proceeding please install 'OpenAI Gym' \n",
        "\n",
        "import gym\n",
        "import numpy as np\n",
        "\n",
        "%matplotlib inline\n",
        "import matplotlib.pyplot as plt\n",
        "import matplotlib.animation as anime"
      ],
      "metadata": {
        "id": "-wuU-bgXby01"
      },
      "execution_count": null,
      "outputs": []
    },
    {
      "cell_type": "code",
      "source": [
        "# starting a new game and plotting the frame\n",
        "\n",
        "obs = env.reset()\n",
        "print(obs.shape) #[ht, wd, channels]\n",
        "\n",
        "plt.figure(figsize=(7, 7))\n",
        "plt.imshow(obs)\n",
        "plt.axis('off')\n",
        "\n",
        "# 9 possible actions in Pacman : 0,...,8\n",
        "# 0: no change, 1: up, 2: right, 3: left, 4: down, ...\n",
        "print('action_space :', env.action_space)"
      ],
      "metadata": {
        "colab": {
          "base_uri": "https://localhost:8080/",
          "height": 447
        },
        "id": "zF1xa1oOb0K4",
        "outputId": "f4b211ff-4f58-4d4b-ffc3-abf2e94278c1"
      },
      "execution_count": null,
      "outputs": [
        {
          "output_type": "stream",
          "name": "stdout",
          "text": [
            "(210, 160, 3)\n",
            "action_space : Discrete(9)\n"
          ]
        },
        {
          "output_type": "display_data",
          "data": {
            "text/plain": [
              "<Figure size 504x504 with 1 Axes>"
            ],
            "image/png": "[encoded data removed]"
          },
          "metadata": {
            "needs_background": "light"
          }
        }
      ]
    },
    {
      "cell_type": "code",
      "source": [
        "# reducing the image size, crop for faster training\n",
        "\n",
        "def preprocess(obs):\n",
        "    img = obs[1:168:2, : : 2, :] # crop and downsize\n",
        "    img = img - 128 # normalize between -128 and 127\n",
        "    img = img.astype('int8') # saves memory\n",
        "    return img\n",
        "\n",
        "print('original obs shape :', obs.shape)\n",
        "print('new obs shape :', preprocess(obs).shape)\n",
        "print(obs.min(), obs.max(), preprocess(obs).min(), preprocess(obs).max())\n",
        "\n",
        "plt.imshow((preprocess(obs) + 128).astype('uint8')) # plt doesn't plot 'int8'\n",
        "plt.axis('off')"
      ],
      "metadata": {
        "colab": {
          "base_uri": "https://localhost:8080/",
          "height": 319
        },
        "id": "hknxEb8Xb4Sz",
        "outputId": "07d368c7-c4a2-4049-edb5-9b2b129d7d76"
      },
      "execution_count": null,
      "outputs": [
        {
          "output_type": "stream",
          "name": "stdout",
          "text": [
            "original obs shape : (210, 160, 3)\n",
            "new obs shape : (84, 80, 3)\n",
            "0 228 -128 100\n"
          ]
        },
        {
          "output_type": "execute_result",
          "data": {
            "text/plain": [
              "(-0.5, 79.5, 83.5, -0.5)"
            ]
          },
          "metadata": {},
          "execution_count": 14
        },
        {
          "output_type": "display_data",
          "data": {
            "text/plain": [
              "<Figure size 432x288 with 1 Axes>"
            ],
            "image/png": "[encoded data removed]"
          },
          "metadata": {
            "needs_background": "light"
          }
        }
      ]
    },
    {
      "cell_type": "code",
      "source": [
        "# saving the previous game as a video\n",
        "\n",
        "def update_scene(num, frames, patch):\n",
        "    patch.set_data(frames[num])\n",
        "    return patch,\n",
        "\n",
        "def plot_animation(frames, repeat=False, interval=40):\n",
        "    fig = plt.figure()\n",
        "    patch = plt.imshow(frames[0])\n",
        "    plt.axis('off')\n",
        "    return anime.FuncAnimation(fig, update_scene, fargs=(frames, patch), frames=len(frames), repeat=repeat, interval=interval)"
      ],
      "metadata": {
        "id": "jceiza9gc9LH"
      },
      "execution_count": null,
      "outputs": []
    },
    {
      "cell_type": "code",
      "source": [
        "    action = env.action_space.sample()\n",
        "\n",
        "    # perform this action on the environment\n",
        "    #env.step(action)\n",
        "    observation, reward, terminated, truncated = env.step(action)"
      ],
      "metadata": {
        "id": "BaXWvyEZfOI3"
      },
      "execution_count": null,
      "outputs": []
    },
    {
      "cell_type": "code",
      "source": [
        "observation"
      ],
      "metadata": {
        "colab": {
          "base_uri": "https://localhost:8080/"
        },
        "id": "XQ8-mPJVfUWH",
        "outputId": "9dafac4b-6d94-4c15-8890-d08da61357ce"
      },
      "execution_count": null,
      "outputs": [
        {
          "output_type": "execute_result",
          "data": {
            "text/plain": [
              "array([[[  0,   0,   0],\n",
              "        [  0,   0,   0],\n",
              "        [  0,   0,   0],\n",
              "        ...,\n",
              "        [  0,   0,   0],\n",
              "        [  0,   0,   0],\n",
              "        [  0,   0,   0]],\n",
              "\n",
              "       [[228, 111, 111],\n",
              "        [228, 111, 111],\n",
              "        [228, 111, 111],\n",
              "        ...,\n",
              "        [228, 111, 111],\n",
              "        [228, 111, 111],\n",
              "        [228, 111, 111]],\n",
              "\n",
              "       [[228, 111, 111],\n",
              "        [228, 111, 111],\n",
              "        [228, 111, 111],\n",
              "        ...,\n",
              "        [228, 111, 111],\n",
              "        [228, 111, 111],\n",
              "        [228, 111, 111]],\n",
              "\n",
              "       ...,\n",
              "\n",
              "       [[  0,   0,   0],\n",
              "        [  0,   0,   0],\n",
              "        [  0,   0,   0],\n",
              "        ...,\n",
              "        [  0,   0,   0],\n",
              "        [  0,   0,   0],\n",
              "        [  0,   0,   0]],\n",
              "\n",
              "       [[  0,   0,   0],\n",
              "        [  0,   0,   0],\n",
              "        [  0,   0,   0],\n",
              "        ...,\n",
              "        [  0,   0,   0],\n",
              "        [  0,   0,   0],\n",
              "        [  0,   0,   0]],\n",
              "\n",
              "       [[  0,   0,   0],\n",
              "        [  0,   0,   0],\n",
              "        [  0,   0,   0],\n",
              "        ...,\n",
              "        [  0,   0,   0],\n",
              "        [  0,   0,   0],\n",
              "        [  0,   0,   0]]], dtype=uint8)"
            ]
          },
          "metadata": {},
          "execution_count": 17
        }
      ]
    },
    {
      "cell_type": "code",
      "source": [
        "reward"
      ],
      "metadata": {
        "colab": {
          "base_uri": "https://localhost:8080/"
        },
        "id": "qlwryL_WfUac",
        "outputId": "e5dd2cb6-c196-43c0-cdca-7b3cf5540495"
      },
      "execution_count": null,
      "outputs": [
        {
          "output_type": "execute_result",
          "data": {
            "text/plain": [
              "0.0"
            ]
          },
          "metadata": {},
          "execution_count": 18
        }
      ]
    },
    {
      "cell_type": "code",
      "source": [
        "terminated"
      ],
      "metadata": {
        "colab": {
          "base_uri": "https://localhost:8080/"
        },
        "id": "jTNBtbJKfUfS",
        "outputId": "19f3c5cd-aa16-4fe8-c870-089a611b5597"
      },
      "execution_count": null,
      "outputs": [
        {
          "output_type": "execute_result",
          "data": {
            "text/plain": [
              "False"
            ]
          },
          "metadata": {},
          "execution_count": 19
        }
      ]
    },
    {
      "cell_type": "code",
      "source": [
        "truncated"
      ],
      "metadata": {
        "colab": {
          "base_uri": "https://localhost:8080/"
        },
        "id": "Dew7ET_7fUkU",
        "outputId": "ac9b1878-7f96-4265-d1d4-8d5b7136b0cb"
      },
      "execution_count": null,
      "outputs": [
        {
          "output_type": "execute_result",
          "data": {
            "text/plain": [
              "{'lives': 3, 'episode_frame_number': 2, 'frame_number': 2}"
            ]
          },
          "metadata": {},
          "execution_count": 20
        }
      ]
    },
    {
      "cell_type": "code",
      "source": [
        "!apt-get install -y xvfb python-opengl ffmpeg > /dev/null 2>&1\n",
        "!pip install -U colabgymrender"
      ],
      "metadata": {
        "colab": {
          "base_uri": "https://localhost:8080/"
        },
        "id": "Aq0c1e6nhnMt",
        "outputId": "122bb6cd-6b46-4191-c5c9-ce3a431d32c3"
      },
      "execution_count": null,
      "outputs": [
        {
          "output_type": "stream",
          "name": "stdout",
          "text": [
            "Looking in indexes: https://pypi.org/simple, https://us-python.pkg.dev/colab-wheels/public/simple/\n",
            "Requirement already satisfied: colabgymrender in /usr/local/lib/python3.8/dist-packages (1.1.0)\n",
            "Requirement already satisfied: moviepy in /usr/local/lib/python3.8/dist-packages (from colabgymrender) (0.2.3.5)\n",
            "Requirement already satisfied: tqdm<5.0,>=4.11.2 in /usr/local/lib/python3.8/dist-packages (from moviepy->colabgymrender) (4.64.1)\n",
            "Requirement already satisfied: decorator<5.0,>=4.0.2 in /usr/local/lib/python3.8/dist-packages (from moviepy->colabgymrender) (4.4.2)\n",
            "Requirement already satisfied: imageio<3.0,>=2.1.2 in /usr/local/lib/python3.8/dist-packages (from moviepy->colabgymrender) (2.9.0)\n",
            "Requirement already satisfied: numpy in /usr/local/lib/python3.8/dist-packages (from moviepy->colabgymrender) (1.21.6)\n",
            "Requirement already satisfied: pillow in /usr/local/lib/python3.8/dist-packages (from imageio<3.0,>=2.1.2->moviepy->colabgymrender) (7.1.2)\n"
          ]
        }
      ]
    },
    {
      "cell_type": "code",
      "source": [
        "import time\n",
        "\n",
        "num_steps = 10000\n",
        "\n",
        "# create a new instance of pacman, and get the initial state\n",
        "for i in range(10):\n",
        "\n",
        "  frames = [] # will store the game frames, can be converted to video\n",
        "  game_reward = 0\n",
        "  state = env.reset()\n",
        "\n",
        "  for s in range(num_steps+1):\n",
        "      #print(f\"step: {s} out of {num_steps}\")\n",
        "\n",
        "      # sample a random action from the list of available actions\n",
        "      action = env.action_space.sample()\n",
        "\n",
        "      # perform this action on the environment\n",
        "      #env.step(action)\n",
        "      observation, reward, terminated, info = env.step(action)\n",
        "\n",
        "      #print(1 + action, end=' ')\n",
        "      frames.append(observation) # if you want to store the game as a vid\n",
        "      game_reward += int(reward)\n",
        "      #env.render()\n",
        "      time.sleep(0.05) # to slowdown the game\n",
        "      # check if game ended\n",
        "      if terminated:\n",
        "          break\n",
        "\n",
        "  print('game_score :', game_reward)\n",
        "      # print the new state\n",
        "      #env.render()\n",
        "\n",
        "  # end this instance of the pacman environment\n",
        "  env.close()\n",
        "\n",
        "  plot_animation(frames).save('/content/MyDrive/MyDrive/images/Randoms/PacMan_Random{i}.mp4'.format(i = i+1), fps=30, extra_args=['-vcodec', 'libx264'])"
      ],
      "metadata": {
        "colab": {
          "base_uri": "https://localhost:8080/",
          "height": 1000
        },
        "id": "QMlyrD8lb6QV",
        "outputId": "9b203d74-77a7-4f75-d9e8-6ac8bebf49b1"
      },
      "execution_count": null,
      "outputs": [
        {
          "output_type": "stream",
          "name": "stdout",
          "text": [
            "game_score : 370\n",
            "game_score : 190\n",
            "game_score : 170\n",
            "game_score : 200\n",
            "game_score : 160\n",
            "game_score : 190\n",
            "game_score : 240\n",
            "game_score : 160\n",
            "game_score : 240\n",
            "game_score : 300\n"
          ]
        },
        {
          "output_type": "display_data",
          "data": {
            "text/plain": [
              "<Figure size 432x288 with 1 Axes>"
            ],
            "image/png": "[encoded data removed]"
          },
          "metadata": {
            "needs_background": "light"
          }
        },
        {
          "output_type": "display_data",
          "data": {
            "text/plain": [
              "<Figure size 432x288 with 1 Axes>"
            ],
            "image/png": "[encoded data removed]"
          },
          "metadata": {
            "needs_background": "light"
          }
        },
        {
          "output_type": "display_data",
          "data": {
            "text/plain": [
              "<Figure size 432x288 with 1 Axes>"
            ],
            "image/png": "[encoded data removed]"
          },
          "metadata": {
            "needs_background": "light"
          }
        },
        {
          "output_type": "display_data",
          "data": {
            "text/plain": [
              "<Figure size 432x288 with 1 Axes>"
            ],
            "image/png": "[encoded data removed]"
          },
          "metadata": {
            "needs_background": "light"
          }
        },
        {
          "output_type": "display_data",
          "data": {
            "text/plain": [
              "<Figure size 432x288 with 1 Axes>"
            ],
            "image/png": "[encoded data removed]"
          },
          "metadata": {
            "needs_background": "light"
          }
        },
        {
          "output_type": "display_data",
          "data": {
            "text/plain": [
              "<Figure size 432x288 with 1 Axes>"
            ],
            "image/png": "[encoded data removed]"
          },
          "metadata": {
            "needs_background": "light"
          }
        },
        {
          "output_type": "display_data",
          "data": {
            "text/plain": [
              "<Figure size 432x288 with 1 Axes>"
            ],
            "image/png": "[encoded data removed]"
          },
          "metadata": {
            "needs_background": "light"
          }
        },
        {
          "output_type": "display_data",
          "data": {
            "text/plain": [
              "<Figure size 432x288 with 1 Axes>"
            ],
            "image/png": "[encoded data removed]"
          },
          "metadata": {
            "needs_background": "light"
          }
        },
        {
          "output_type": "display_data",
          "data": {
            "text/plain": [
              "<Figure size 432x288 with 1 Axes>"
            ],
            "image/png": "[encoded data removed]"
          },
          "metadata": {
            "needs_background": "light"
          }
        },
        {
          "output_type": "display_data",
          "data": {
            "text/plain": [
              "<Figure size 432x288 with 1 Axes>"
            ],
            "image/png": "[encoded data removed]"
          },
          "metadata": {
            "needs_background": "light"
          }
        }
      ]
    },
    {
      "cell_type": "code",
      "source": [
        "\"\"\"# playing using the online q-net\n",
        "\n",
        "import time\n",
        "\n",
        "#sess = tf.InteractiveSession()\n",
        "#saver.restore(sess, './datasets/Pacman/pacman.ckpt')\n",
        "\n",
        "n_max_steps = 5000\n",
        "frames = [] # will store the game frames, can be converted to video\n",
        "game_reward = 0\n",
        "\n",
        "# start a  new game\n",
        "obs = env.reset()\n",
        "\n",
        "# skip the start of each life as in pacman its just waiting\n",
        "for skip in range(skip_start): \n",
        "    obs, reward, done, info = env.step(0)\n",
        "\n",
        "lives_left = 3\n",
        "\n",
        "for stp in range(n_max_steps):\n",
        "    state = preprocess(obs)    \n",
        "    # determine the action using online q_net\n",
        "    q_vals_eval = q_vals_online.eval(feed_dict={X_state: state.reshape(1, input_height, input_width, n_channels)})[0]\n",
        "    action = np.argmax(q_vals_eval)\n",
        "    # execute the action\n",
        "    obs, reward, done, info = env.step(1 + action)\n",
        "    \n",
        "    # skip the start of each life as in pacman its just waiting\n",
        "    if lives_left != info['lives']:\n",
        "        lives_left = info['lives']\n",
        "        for skip in range(35): \n",
        "            obs, reward, done, info = env.step(0)\n",
        "    \n",
        "    print(1 + action, end=' ')\n",
        "    frames.append(obs) # if you want to store the game as a vid\n",
        "    game_reward += int(reward)\n",
        "    #env.render()\n",
        "    time.sleep(0.05) # to slowdown the game\n",
        "    # check if game ended\n",
        "    if done:\n",
        "        break\n",
        "\n",
        "print('game_score :', game_reward)\n",
        "# 0:no change, 1:t, 2:r, 3:l, 4:d \"\"\""
      ],
      "metadata": {
        "colab": {
          "base_uri": "https://localhost:8080/",
          "height": 107
        },
        "id": "M0xy3WbJdh4W",
        "outputId": "ee285b1f-4146-4374-f793-ce92b77a16f7"
      },
      "execution_count": null,
      "outputs": [
        {
          "output_type": "execute_result",
          "data": {
            "text/plain": [
              "\"# playing using the online q-net\\n\\nimport time\\n\\n#sess = tf.InteractiveSession()\\n#saver.restore(sess, './datasets/Pacman/pacman.ckpt')\\n\\nn_max_steps = 5000\\nframes = [] # will store the game frames, can be converted to video\\ngame_reward = 0\\n\\n# start a  new game\\nobs = env.reset()\\n\\n# skip the start of each life as in pacman its just waiting\\nfor skip in range(skip_start): \\n    obs, reward, done, info = env.step(0)\\n\\nlives_left = 3\\n\\nfor stp in range(n_max_steps):\\n    state = preprocess(obs)    \\n    # determine the action using online q_net\\n    q_vals_eval = q_vals_online.eval(feed_dict={X_state: state.reshape(1, input_height, input_width, n_channels)})[0]\\n    action = np.argmax(q_vals_eval)\\n    # execute the action\\n    obs, reward, done, info = env.step(1 + action)\\n    \\n    # skip the start of each life as in pacman its just waiting\\n    if lives_left != info['lives']:\\n        lives_left = info['lives']\\n        for skip in range(35): \\n            obs, reward, done, info = env.step(0)\\n    \\n    print(1 + action, end=' ')\\n    frames.append(obs) # if you want to store the game as a vid\\n    game_reward += int(reward)\\n    #env.render()\\n    time.sleep(0.05) # to slowdown the game\\n    # check if game ended\\n    if done:\\n        break\\n\\nprint('game_score :', game_reward)\\n# 0:no change, 1:t, 2:r, 3:l, 4:d \""
            ],
            "application/vnd.google.colaboratory.intrinsic+json": {
              "type": "string"
            }
          },
          "metadata": {},
          "execution_count": 23
        }
      ]
    }
  ]
}